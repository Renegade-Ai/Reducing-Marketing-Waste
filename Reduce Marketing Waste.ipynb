{
  "nbformat": 4,
  "nbformat_minor": 0,
  "metadata": {
    "colab": {
      "name": "hcackiothon?.ipynb",
      "provenance": [],
      "collapsed_sections": []
    },
    "kernelspec": {
      "name": "python3",
      "display_name": "Python 3"
    },
    "language_info": {
      "name": "python"
    }
  },
  "cells": [
    {
      "cell_type": "code",
      "metadata": {
        "id": "-0V_vCstr7Wm"
      },
      "source": [
        "import pandas as pd\n",
        "import numpy as np\n",
        "import matplotlib.pyplot as plt"
      ],
      "execution_count": 172,
      "outputs": []
    },
    {
      "cell_type": "code",
      "metadata": {
        "id": "ad_9CFacsaDy"
      },
      "source": [
        "train_csv = pd.read_csv(\"/content/train.csv\") \n",
        "test_csv = pd.read_csv(\"/content/test.csv\")  "
      ],
      "execution_count": 173,
      "outputs": []
    },
    {
      "cell_type": "code",
      "metadata": {
        "id": "_e0RWh_5md_2"
      },
      "source": [
        "ans1 = pd.DataFrame(test_csv[\"Deal_title\"]) "
      ],
      "execution_count": 174,
      "outputs": []
    },
    {
      "cell_type": "code",
      "metadata": {
        "id": "_OHhuGgRwxvi"
      },
      "source": [
        "#df = pd.concat([train_csv, test_csv])"
      ],
      "execution_count": 175,
      "outputs": []
    },
    {
      "cell_type": "code",
      "metadata": {
        "colab": {
          "base_uri": "https://localhost:8080/"
        },
        "id": "1Nv2fADXw9Ci",
        "outputId": "bdd875cd-0a16-48e9-bf00-b51f7cf2b841"
      },
      "source": [
        "test_csv.shape"
      ],
      "execution_count": 176,
      "outputs": [
        {
          "output_type": "execute_result",
          "data": {
            "text/plain": [
              "(2093, 22)"
            ]
          },
          "metadata": {
            "tags": []
          },
          "execution_count": 176
        }
      ]
    },
    {
      "cell_type": "code",
      "metadata": {
        "colab": {
          "base_uri": "https://localhost:8080/"
        },
        "id": "Lj7_IGJow_hN",
        "outputId": "c4ec6d7f-1107-41b5-ea7a-9bd0f79a51ac"
      },
      "source": [
        "train_csv.shape"
      ],
      "execution_count": 177,
      "outputs": [
        {
          "output_type": "execute_result",
          "data": {
            "text/plain": [
              "(7007, 23)"
            ]
          },
          "metadata": {
            "tags": []
          },
          "execution_count": 177
        }
      ]
    },
    {
      "cell_type": "code",
      "metadata": {
        "id": "BwjzE04usksu",
        "colab": {
          "base_uri": "https://localhost:8080/",
          "height": 394
        },
        "outputId": "adaac2b1-2f61-4ada-c55b-45ad3c12409e"
      },
      "source": [
        "train_csv.head()"
      ],
      "execution_count": 178,
      "outputs": [
        {
          "output_type": "execute_result",
          "data": {
            "text/html": [
              "<div>\n",
              "<style scoped>\n",
              "    .dataframe tbody tr th:only-of-type {\n",
              "        vertical-align: middle;\n",
              "    }\n",
              "\n",
              "    .dataframe tbody tr th {\n",
              "        vertical-align: top;\n",
              "    }\n",
              "\n",
              "    .dataframe thead th {\n",
              "        text-align: right;\n",
              "    }\n",
              "</style>\n",
              "<table border=\"1\" class=\"dataframe\">\n",
              "  <thead>\n",
              "    <tr style=\"text-align: right;\">\n",
              "      <th></th>\n",
              "      <th>Deal_title</th>\n",
              "      <th>Lead_name</th>\n",
              "      <th>Industry</th>\n",
              "      <th>Deal_value</th>\n",
              "      <th>Weighted_amount</th>\n",
              "      <th>Date_of_creation</th>\n",
              "      <th>Pitch</th>\n",
              "      <th>Contact_no</th>\n",
              "      <th>Lead_revenue</th>\n",
              "      <th>Fund_category</th>\n",
              "      <th>Geography</th>\n",
              "      <th>Location</th>\n",
              "      <th>POC_name</th>\n",
              "      <th>Designation</th>\n",
              "      <th>Lead_POC_email</th>\n",
              "      <th>Hiring_candidate_role</th>\n",
              "      <th>Lead_source</th>\n",
              "      <th>Level_of_meeting</th>\n",
              "      <th>Last_lead_update</th>\n",
              "      <th>Internal_POC</th>\n",
              "      <th>Resource</th>\n",
              "      <th>Internal_rating</th>\n",
              "      <th>Success_probability</th>\n",
              "    </tr>\n",
              "  </thead>\n",
              "  <tbody>\n",
              "    <tr>\n",
              "      <th>0</th>\n",
              "      <td>TitleM5DZY</td>\n",
              "      <td>Davis, Perkins and Bishop Inc</td>\n",
              "      <td>Restaurants</td>\n",
              "      <td>320506$</td>\n",
              "      <td>2067263.7$</td>\n",
              "      <td>2020-03-29</td>\n",
              "      <td>Product_2</td>\n",
              "      <td>607.447.7883</td>\n",
              "      <td>50 - 100 Million</td>\n",
              "      <td>Category 2</td>\n",
              "      <td>USA</td>\n",
              "      <td>Killeen-Temple, TX</td>\n",
              "      <td>Charlene Werner</td>\n",
              "      <td>Executive Vice President</td>\n",
              "      <td>charlenewerner@davis.com</td>\n",
              "      <td>Community pharmacist</td>\n",
              "      <td>Website</td>\n",
              "      <td>Level 3</td>\n",
              "      <td>No track</td>\n",
              "      <td>Davis,Sharrice A</td>\n",
              "      <td>NaN</td>\n",
              "      <td>3</td>\n",
              "      <td>73.6</td>\n",
              "    </tr>\n",
              "    <tr>\n",
              "      <th>1</th>\n",
              "      <td>TitleKIW18</td>\n",
              "      <td>Bender PLC LLC</td>\n",
              "      <td>Construction Services</td>\n",
              "      <td>39488$</td>\n",
              "      <td>240876.8$</td>\n",
              "      <td>2019-07-10</td>\n",
              "      <td>Product_2</td>\n",
              "      <td>892-938-9493</td>\n",
              "      <td>500 Million - 1 Billion</td>\n",
              "      <td>Category 4</td>\n",
              "      <td>India</td>\n",
              "      <td>Ratlam</td>\n",
              "      <td>rakhi</td>\n",
              "      <td>Chairman/CEO/President</td>\n",
              "      <td>terrylogan@bender.com</td>\n",
              "      <td>Recruitment consultant</td>\n",
              "      <td>Others</td>\n",
              "      <td>Level 1</td>\n",
              "      <td>Did not hear back after Level 1</td>\n",
              "      <td>Brown,Maxine A</td>\n",
              "      <td>No</td>\n",
              "      <td>5</td>\n",
              "      <td>58.9</td>\n",
              "    </tr>\n",
              "    <tr>\n",
              "      <th>2</th>\n",
              "      <td>TitleFXSDN</td>\n",
              "      <td>Carter-Henry and Sons</td>\n",
              "      <td>Hospitals/Clinics</td>\n",
              "      <td>359392$</td>\n",
              "      <td>2407926.4$</td>\n",
              "      <td>2019-07-27</td>\n",
              "      <td>Product_1</td>\n",
              "      <td>538.748.2271</td>\n",
              "      <td>500 Million - 1 Billion</td>\n",
              "      <td>Category 4</td>\n",
              "      <td>USA</td>\n",
              "      <td>Albany-Schenectady-Troy, NY</td>\n",
              "      <td>Ariel Hamilton</td>\n",
              "      <td>SVP/General Counsel</td>\n",
              "      <td>arielhamilton@carterhenry.com</td>\n",
              "      <td>Health service manager</td>\n",
              "      <td>Marketing Event</td>\n",
              "      <td>Level 1</td>\n",
              "      <td>?</td>\n",
              "      <td>Georgakopoulos,Vasilios T</td>\n",
              "      <td>No</td>\n",
              "      <td>4</td>\n",
              "      <td>68.8</td>\n",
              "    </tr>\n",
              "    <tr>\n",
              "      <th>3</th>\n",
              "      <td>TitlePSK4Y</td>\n",
              "      <td>Garcia Ltd Ltd</td>\n",
              "      <td>Real Estate</td>\n",
              "      <td>76774$</td>\n",
              "      <td>468321.4$</td>\n",
              "      <td>2021-01-30</td>\n",
              "      <td>Product_2</td>\n",
              "      <td>(692)052-1389x75188</td>\n",
              "      <td>500 Million - 1 Billion</td>\n",
              "      <td>Category 3</td>\n",
              "      <td>USA</td>\n",
              "      <td>Mount Vernon-Anacortes, WA</td>\n",
              "      <td>Erin Wilson</td>\n",
              "      <td>CEO/Co-Founder/Chairman</td>\n",
              "      <td>erinwilson@garcia.com</td>\n",
              "      <td>Therapist, speech and language</td>\n",
              "      <td>Contact Email</td>\n",
              "      <td>Level 2</td>\n",
              "      <td>Did not hear back after Level 1</td>\n",
              "      <td>Brown,Maxine A</td>\n",
              "      <td>We have all the requirements</td>\n",
              "      <td>1</td>\n",
              "      <td>64.5</td>\n",
              "    </tr>\n",
              "    <tr>\n",
              "      <th>4</th>\n",
              "      <td>Title904GV</td>\n",
              "      <td>Lee and Sons PLC</td>\n",
              "      <td>Financial Services</td>\n",
              "      <td>483896$</td>\n",
              "      <td>NaN</td>\n",
              "      <td>2019-05-22</td>\n",
              "      <td>Product_2</td>\n",
              "      <td>001-878-814-6134x015</td>\n",
              "      <td>50 - 100 Million</td>\n",
              "      <td>Category 3</td>\n",
              "      <td>India</td>\n",
              "      <td>Shimoga</td>\n",
              "      <td>kavita</td>\n",
              "      <td>Executive Vice President</td>\n",
              "      <td>mr.christopher@lee.com</td>\n",
              "      <td>Media planner</td>\n",
              "      <td>Website</td>\n",
              "      <td>Level 2</td>\n",
              "      <td>Up-to-date</td>\n",
              "      <td>Thomas,Lori E</td>\n",
              "      <td>No</td>\n",
              "      <td>4</td>\n",
              "      <td>62.4</td>\n",
              "    </tr>\n",
              "  </tbody>\n",
              "</table>\n",
              "</div>"
            ],
            "text/plain": [
              "   Deal_title  ... Success_probability\n",
              "0  TitleM5DZY  ...                73.6\n",
              "1  TitleKIW18  ...                58.9\n",
              "2  TitleFXSDN  ...                68.8\n",
              "3  TitlePSK4Y  ...                64.5\n",
              "4  Title904GV  ...                62.4\n",
              "\n",
              "[5 rows x 23 columns]"
            ]
          },
          "metadata": {
            "tags": []
          },
          "execution_count": 178
        }
      ]
    },
    {
      "cell_type": "code",
      "metadata": {
        "id": "gyXJWUF6vkHn",
        "colab": {
          "base_uri": "https://localhost:8080/"
        },
        "outputId": "a7203a24-772f-4dc0-ceb2-6b6e0f7082ca"
      },
      "source": [
        "train_csv.shape"
      ],
      "execution_count": 179,
      "outputs": [
        {
          "output_type": "execute_result",
          "data": {
            "text/plain": [
              "(7007, 23)"
            ]
          },
          "metadata": {
            "tags": []
          },
          "execution_count": 179
        }
      ]
    },
    {
      "cell_type": "code",
      "metadata": {
        "id": "eueRdlwCwjBW",
        "colab": {
          "base_uri": "https://localhost:8080/"
        },
        "outputId": "60361b64-6777-47aa-f60e-f31cbcde4528"
      },
      "source": [
        "train_csv.nunique()"
      ],
      "execution_count": 180,
      "outputs": [
        {
          "output_type": "execute_result",
          "data": {
            "text/plain": [
              "Deal_title               7007\n",
              "Lead_name                7007\n",
              "Industry                  171\n",
              "Deal_value               6907\n",
              "Weighted_amount          6480\n",
              "Date_of_creation          777\n",
              "Pitch                       2\n",
              "Contact_no               7007\n",
              "Lead_revenue                3\n",
              "Fund_category               4\n",
              "Geography                   2\n",
              "Location                  597\n",
              "POC_name                 5261\n",
              "Designation                10\n",
              "Lead_POC_email           7007\n",
              "Hiring_candidate_role     639\n",
              "Lead_source                 4\n",
              "Level_of_meeting            3\n",
              "Last_lead_update           11\n",
              "Internal_POC               60\n",
              "Resource                    6\n",
              "Internal_rating             5\n",
              "Success_probability       248\n",
              "dtype: int64"
            ]
          },
          "metadata": {
            "tags": []
          },
          "execution_count": 180
        }
      ]
    },
    {
      "cell_type": "code",
      "metadata": {
        "colab": {
          "base_uri": "https://localhost:8080/"
        },
        "id": "qAIhAV1bZtBB",
        "outputId": "97a52e70-b5ae-429a-df18-b16d8b58863c"
      },
      "source": [
        "train_csv.dtypes"
      ],
      "execution_count": 181,
      "outputs": [
        {
          "output_type": "execute_result",
          "data": {
            "text/plain": [
              "Deal_title                object\n",
              "Lead_name                 object\n",
              "Industry                  object\n",
              "Deal_value                object\n",
              "Weighted_amount           object\n",
              "Date_of_creation          object\n",
              "Pitch                     object\n",
              "Contact_no                object\n",
              "Lead_revenue              object\n",
              "Fund_category             object\n",
              "Geography                 object\n",
              "Location                  object\n",
              "POC_name                  object\n",
              "Designation               object\n",
              "Lead_POC_email            object\n",
              "Hiring_candidate_role     object\n",
              "Lead_source               object\n",
              "Level_of_meeting          object\n",
              "Last_lead_update          object\n",
              "Internal_POC              object\n",
              "Resource                  object\n",
              "Internal_rating            int64\n",
              "Success_probability      float64\n",
              "dtype: object"
            ]
          },
          "metadata": {
            "tags": []
          },
          "execution_count": 181
        }
      ]
    },
    {
      "cell_type": "code",
      "metadata": {
        "colab": {
          "base_uri": "https://localhost:8080/",
          "height": 111
        },
        "id": "4GKTb0KfpKKk",
        "outputId": "b029c6b2-c359-4adb-93b2-e4627a00dc31"
      },
      "source": [
        "train_csv.corr(method = \"pearson\")# the other cols are simply object "
      ],
      "execution_count": 182,
      "outputs": [
        {
          "output_type": "execute_result",
          "data": {
            "text/html": [
              "<div>\n",
              "<style scoped>\n",
              "    .dataframe tbody tr th:only-of-type {\n",
              "        vertical-align: middle;\n",
              "    }\n",
              "\n",
              "    .dataframe tbody tr th {\n",
              "        vertical-align: top;\n",
              "    }\n",
              "\n",
              "    .dataframe thead th {\n",
              "        text-align: right;\n",
              "    }\n",
              "</style>\n",
              "<table border=\"1\" class=\"dataframe\">\n",
              "  <thead>\n",
              "    <tr style=\"text-align: right;\">\n",
              "      <th></th>\n",
              "      <th>Internal_rating</th>\n",
              "      <th>Success_probability</th>\n",
              "    </tr>\n",
              "  </thead>\n",
              "  <tbody>\n",
              "    <tr>\n",
              "      <th>Internal_rating</th>\n",
              "      <td>1.000000</td>\n",
              "      <td>0.073845</td>\n",
              "    </tr>\n",
              "    <tr>\n",
              "      <th>Success_probability</th>\n",
              "      <td>0.073845</td>\n",
              "      <td>1.000000</td>\n",
              "    </tr>\n",
              "  </tbody>\n",
              "</table>\n",
              "</div>"
            ],
            "text/plain": [
              "                     Internal_rating  Success_probability\n",
              "Internal_rating             1.000000             0.073845\n",
              "Success_probability         0.073845             1.000000"
            ]
          },
          "metadata": {
            "tags": []
          },
          "execution_count": 182
        }
      ]
    },
    {
      "cell_type": "code",
      "metadata": {
        "id": "AQSTln8KxMGu"
      },
      "source": [
        "train_csv.drop(\"Deal_title\",axis = 1,inplace= True)\n",
        "train_csv.drop(\"Lead_name\",axis = 1,inplace= True)\n",
        "train_csv.drop(\"Contact_no\",axis = 1,inplace= True)\n",
        "train_csv.drop(\"Lead_POC_email\",axis = 1,inplace= True)\n",
        "test_csv.drop(\"Deal_title\",axis = 1,inplace= True)\n",
        "test_csv.drop(\"Lead_name\",axis = 1,inplace= True)\n",
        "test_csv.drop(\"Contact_no\",axis = 1,inplace= True)\n",
        "test_csv.drop(\"Lead_POC_email\",axis = 1,inplace= True)"
      ],
      "execution_count": 183,
      "outputs": []
    },
    {
      "cell_type": "code",
      "metadata": {
        "id": "8JTkhngExjKS",
        "colab": {
          "base_uri": "https://localhost:8080/"
        },
        "outputId": "3e46a90f-7f0a-4a70-fc76-f5bbb2ec0a12"
      },
      "source": [
        "train_csv.nunique()"
      ],
      "execution_count": 184,
      "outputs": [
        {
          "output_type": "execute_result",
          "data": {
            "text/plain": [
              "Industry                  171\n",
              "Deal_value               6907\n",
              "Weighted_amount          6480\n",
              "Date_of_creation          777\n",
              "Pitch                       2\n",
              "Lead_revenue                3\n",
              "Fund_category               4\n",
              "Geography                   2\n",
              "Location                  597\n",
              "POC_name                 5261\n",
              "Designation                10\n",
              "Hiring_candidate_role     639\n",
              "Lead_source                 4\n",
              "Level_of_meeting            3\n",
              "Last_lead_update           11\n",
              "Internal_POC               60\n",
              "Resource                    6\n",
              "Internal_rating             5\n",
              "Success_probability       248\n",
              "dtype: int64"
            ]
          },
          "metadata": {
            "tags": []
          },
          "execution_count": 184
        }
      ]
    },
    {
      "cell_type": "code",
      "metadata": {
        "id": "wmFXNqhoCXIU",
        "colab": {
          "base_uri": "https://localhost:8080/"
        },
        "outputId": "f5c724e9-921c-476d-c0cd-95321f811ceb"
      },
      "source": [
        "train_csv.isna().sum()"
      ],
      "execution_count": 185,
      "outputs": [
        {
          "output_type": "execute_result",
          "data": {
            "text/plain": [
              "Industry                   1\n",
              "Deal_value                51\n",
              "Weighted_amount          525\n",
              "Date_of_creation           0\n",
              "Pitch                      0\n",
              "Lead_revenue               0\n",
              "Fund_category              0\n",
              "Geography                972\n",
              "Location                  11\n",
              "POC_name                   8\n",
              "Designation                0\n",
              "Hiring_candidate_role      0\n",
              "Lead_source                0\n",
              "Level_of_meeting           0\n",
              "Last_lead_update         633\n",
              "Internal_POC               0\n",
              "Resource                 149\n",
              "Internal_rating            0\n",
              "Success_probability        0\n",
              "dtype: int64"
            ]
          },
          "metadata": {
            "tags": []
          },
          "execution_count": 185
        }
      ]
    },
    {
      "cell_type": "code",
      "metadata": {
        "id": "3BVMfRIJxnzc",
        "colab": {
          "base_uri": "https://localhost:8080/",
          "height": 360
        },
        "outputId": "23996a49-1c12-4434-e784-dfb65a5287b4"
      },
      "source": [
        "train_csv.head()"
      ],
      "execution_count": 186,
      "outputs": [
        {
          "output_type": "execute_result",
          "data": {
            "text/html": [
              "<div>\n",
              "<style scoped>\n",
              "    .dataframe tbody tr th:only-of-type {\n",
              "        vertical-align: middle;\n",
              "    }\n",
              "\n",
              "    .dataframe tbody tr th {\n",
              "        vertical-align: top;\n",
              "    }\n",
              "\n",
              "    .dataframe thead th {\n",
              "        text-align: right;\n",
              "    }\n",
              "</style>\n",
              "<table border=\"1\" class=\"dataframe\">\n",
              "  <thead>\n",
              "    <tr style=\"text-align: right;\">\n",
              "      <th></th>\n",
              "      <th>Industry</th>\n",
              "      <th>Deal_value</th>\n",
              "      <th>Weighted_amount</th>\n",
              "      <th>Date_of_creation</th>\n",
              "      <th>Pitch</th>\n",
              "      <th>Lead_revenue</th>\n",
              "      <th>Fund_category</th>\n",
              "      <th>Geography</th>\n",
              "      <th>Location</th>\n",
              "      <th>POC_name</th>\n",
              "      <th>Designation</th>\n",
              "      <th>Hiring_candidate_role</th>\n",
              "      <th>Lead_source</th>\n",
              "      <th>Level_of_meeting</th>\n",
              "      <th>Last_lead_update</th>\n",
              "      <th>Internal_POC</th>\n",
              "      <th>Resource</th>\n",
              "      <th>Internal_rating</th>\n",
              "      <th>Success_probability</th>\n",
              "    </tr>\n",
              "  </thead>\n",
              "  <tbody>\n",
              "    <tr>\n",
              "      <th>0</th>\n",
              "      <td>Restaurants</td>\n",
              "      <td>320506$</td>\n",
              "      <td>2067263.7$</td>\n",
              "      <td>2020-03-29</td>\n",
              "      <td>Product_2</td>\n",
              "      <td>50 - 100 Million</td>\n",
              "      <td>Category 2</td>\n",
              "      <td>USA</td>\n",
              "      <td>Killeen-Temple, TX</td>\n",
              "      <td>Charlene Werner</td>\n",
              "      <td>Executive Vice President</td>\n",
              "      <td>Community pharmacist</td>\n",
              "      <td>Website</td>\n",
              "      <td>Level 3</td>\n",
              "      <td>No track</td>\n",
              "      <td>Davis,Sharrice A</td>\n",
              "      <td>NaN</td>\n",
              "      <td>3</td>\n",
              "      <td>73.6</td>\n",
              "    </tr>\n",
              "    <tr>\n",
              "      <th>1</th>\n",
              "      <td>Construction Services</td>\n",
              "      <td>39488$</td>\n",
              "      <td>240876.8$</td>\n",
              "      <td>2019-07-10</td>\n",
              "      <td>Product_2</td>\n",
              "      <td>500 Million - 1 Billion</td>\n",
              "      <td>Category 4</td>\n",
              "      <td>India</td>\n",
              "      <td>Ratlam</td>\n",
              "      <td>rakhi</td>\n",
              "      <td>Chairman/CEO/President</td>\n",
              "      <td>Recruitment consultant</td>\n",
              "      <td>Others</td>\n",
              "      <td>Level 1</td>\n",
              "      <td>Did not hear back after Level 1</td>\n",
              "      <td>Brown,Maxine A</td>\n",
              "      <td>No</td>\n",
              "      <td>5</td>\n",
              "      <td>58.9</td>\n",
              "    </tr>\n",
              "    <tr>\n",
              "      <th>2</th>\n",
              "      <td>Hospitals/Clinics</td>\n",
              "      <td>359392$</td>\n",
              "      <td>2407926.4$</td>\n",
              "      <td>2019-07-27</td>\n",
              "      <td>Product_1</td>\n",
              "      <td>500 Million - 1 Billion</td>\n",
              "      <td>Category 4</td>\n",
              "      <td>USA</td>\n",
              "      <td>Albany-Schenectady-Troy, NY</td>\n",
              "      <td>Ariel Hamilton</td>\n",
              "      <td>SVP/General Counsel</td>\n",
              "      <td>Health service manager</td>\n",
              "      <td>Marketing Event</td>\n",
              "      <td>Level 1</td>\n",
              "      <td>?</td>\n",
              "      <td>Georgakopoulos,Vasilios T</td>\n",
              "      <td>No</td>\n",
              "      <td>4</td>\n",
              "      <td>68.8</td>\n",
              "    </tr>\n",
              "    <tr>\n",
              "      <th>3</th>\n",
              "      <td>Real Estate</td>\n",
              "      <td>76774$</td>\n",
              "      <td>468321.4$</td>\n",
              "      <td>2021-01-30</td>\n",
              "      <td>Product_2</td>\n",
              "      <td>500 Million - 1 Billion</td>\n",
              "      <td>Category 3</td>\n",
              "      <td>USA</td>\n",
              "      <td>Mount Vernon-Anacortes, WA</td>\n",
              "      <td>Erin Wilson</td>\n",
              "      <td>CEO/Co-Founder/Chairman</td>\n",
              "      <td>Therapist, speech and language</td>\n",
              "      <td>Contact Email</td>\n",
              "      <td>Level 2</td>\n",
              "      <td>Did not hear back after Level 1</td>\n",
              "      <td>Brown,Maxine A</td>\n",
              "      <td>We have all the requirements</td>\n",
              "      <td>1</td>\n",
              "      <td>64.5</td>\n",
              "    </tr>\n",
              "    <tr>\n",
              "      <th>4</th>\n",
              "      <td>Financial Services</td>\n",
              "      <td>483896$</td>\n",
              "      <td>NaN</td>\n",
              "      <td>2019-05-22</td>\n",
              "      <td>Product_2</td>\n",
              "      <td>50 - 100 Million</td>\n",
              "      <td>Category 3</td>\n",
              "      <td>India</td>\n",
              "      <td>Shimoga</td>\n",
              "      <td>kavita</td>\n",
              "      <td>Executive Vice President</td>\n",
              "      <td>Media planner</td>\n",
              "      <td>Website</td>\n",
              "      <td>Level 2</td>\n",
              "      <td>Up-to-date</td>\n",
              "      <td>Thomas,Lori E</td>\n",
              "      <td>No</td>\n",
              "      <td>4</td>\n",
              "      <td>62.4</td>\n",
              "    </tr>\n",
              "  </tbody>\n",
              "</table>\n",
              "</div>"
            ],
            "text/plain": [
              "                Industry Deal_value  ... Internal_rating Success_probability\n",
              "0            Restaurants    320506$  ...               3                73.6\n",
              "1  Construction Services     39488$  ...               5                58.9\n",
              "2      Hospitals/Clinics    359392$  ...               4                68.8\n",
              "3            Real Estate     76774$  ...               1                64.5\n",
              "4     Financial Services    483896$  ...               4                62.4\n",
              "\n",
              "[5 rows x 19 columns]"
            ]
          },
          "metadata": {
            "tags": []
          },
          "execution_count": 186
        }
      ]
    },
    {
      "cell_type": "code",
      "metadata": {
        "id": "p9hKBcdSzcPu",
        "colab": {
          "base_uri": "https://localhost:8080/"
        },
        "outputId": "fe1d7739-61c3-4ccc-f694-15af2ae4f631"
      },
      "source": [
        "train_csv.isna().sum()"
      ],
      "execution_count": 187,
      "outputs": [
        {
          "output_type": "execute_result",
          "data": {
            "text/plain": [
              "Industry                   1\n",
              "Deal_value                51\n",
              "Weighted_amount          525\n",
              "Date_of_creation           0\n",
              "Pitch                      0\n",
              "Lead_revenue               0\n",
              "Fund_category              0\n",
              "Geography                972\n",
              "Location                  11\n",
              "POC_name                   8\n",
              "Designation                0\n",
              "Hiring_candidate_role      0\n",
              "Lead_source                0\n",
              "Level_of_meeting           0\n",
              "Last_lead_update         633\n",
              "Internal_POC               0\n",
              "Resource                 149\n",
              "Internal_rating            0\n",
              "Success_probability        0\n",
              "dtype: int64"
            ]
          },
          "metadata": {
            "tags": []
          },
          "execution_count": 187
        }
      ]
    },
    {
      "cell_type": "code",
      "metadata": {
        "colab": {
          "base_uri": "https://localhost:8080/"
        },
        "id": "le7yhWaJXemB",
        "outputId": "3404496e-c07c-41bd-a520-851fa0e0af40"
      },
      "source": [
        "test_csv.isna().sum()"
      ],
      "execution_count": 188,
      "outputs": [
        {
          "output_type": "execute_result",
          "data": {
            "text/plain": [
              "Industry                   1\n",
              "Deal_value                 5\n",
              "Weighted_amount           60\n",
              "Date_of_creation           0\n",
              "Pitch                      0\n",
              "Lead_revenue               0\n",
              "Fund_category              0\n",
              "Geography                 79\n",
              "Location                   3\n",
              "POC_name                   2\n",
              "Designation                0\n",
              "Hiring_candidate_role      0\n",
              "Lead_source                0\n",
              "Level_of_meeting           0\n",
              "Last_lead_update         168\n",
              "Internal_POC               0\n",
              "Resource                  14\n",
              "Internal_rating            0\n",
              "dtype: int64"
            ]
          },
          "metadata": {
            "tags": []
          },
          "execution_count": 188
        }
      ]
    },
    {
      "cell_type": "code",
      "metadata": {
        "id": "eUQQskLsDJ2W"
      },
      "source": [
        "for col in train_csv[[\"Industry\",\"Geography\",\"Location\",\"POC_name\",\"Last_lead_update\",\"Resource\"]]:\n",
        "  train_csv[col].fillna(train_csv[col].mode()[0],inplace = True)\n",
        "  test_csv[col].fillna(test_csv[col].mode()[0],inplace = True) "
      ],
      "execution_count": 189,
      "outputs": []
    },
    {
      "cell_type": "code",
      "metadata": {
        "id": "qk31HzlgFM40",
        "colab": {
          "base_uri": "https://localhost:8080/"
        },
        "outputId": "0c9e3ea2-8585-47e3-862d-bf60d1ef188a"
      },
      "source": [
        "train_csv.isna().sum()"
      ],
      "execution_count": 190,
      "outputs": [
        {
          "output_type": "execute_result",
          "data": {
            "text/plain": [
              "Industry                   0\n",
              "Deal_value                51\n",
              "Weighted_amount          525\n",
              "Date_of_creation           0\n",
              "Pitch                      0\n",
              "Lead_revenue               0\n",
              "Fund_category              0\n",
              "Geography                  0\n",
              "Location                   0\n",
              "POC_name                   0\n",
              "Designation                0\n",
              "Hiring_candidate_role      0\n",
              "Lead_source                0\n",
              "Level_of_meeting           0\n",
              "Last_lead_update           0\n",
              "Internal_POC               0\n",
              "Resource                   0\n",
              "Internal_rating            0\n",
              "Success_probability        0\n",
              "dtype: int64"
            ]
          },
          "metadata": {
            "tags": []
          },
          "execution_count": 190
        }
      ]
    },
    {
      "cell_type": "code",
      "metadata": {
        "colab": {
          "base_uri": "https://localhost:8080/"
        },
        "id": "ZoEzC6gFXqeR",
        "outputId": "0505e1ff-5a2f-445d-ed2d-5a8fd20e52a9"
      },
      "source": [
        "train_csv[\"Pitch\"].value_counts()"
      ],
      "execution_count": 191,
      "outputs": [
        {
          "output_type": "execute_result",
          "data": {
            "text/plain": [
              "Product_1    3504\n",
              "Product_2    3503\n",
              "Name: Pitch, dtype: int64"
            ]
          },
          "metadata": {
            "tags": []
          },
          "execution_count": 191
        }
      ]
    },
    {
      "cell_type": "code",
      "metadata": {
        "colab": {
          "base_uri": "https://localhost:8080/"
        },
        "id": "fUzcrEs-ZHNQ",
        "outputId": "a163acf5-59b8-4b3e-d6ac-42bb562c4c69"
      },
      "source": [
        "train_csv.dtypes"
      ],
      "execution_count": 192,
      "outputs": [
        {
          "output_type": "execute_result",
          "data": {
            "text/plain": [
              "Industry                  object\n",
              "Deal_value                object\n",
              "Weighted_amount           object\n",
              "Date_of_creation          object\n",
              "Pitch                     object\n",
              "Lead_revenue              object\n",
              "Fund_category             object\n",
              "Geography                 object\n",
              "Location                  object\n",
              "POC_name                  object\n",
              "Designation               object\n",
              "Hiring_candidate_role     object\n",
              "Lead_source               object\n",
              "Level_of_meeting          object\n",
              "Last_lead_update          object\n",
              "Internal_POC              object\n",
              "Resource                  object\n",
              "Internal_rating            int64\n",
              "Success_probability      float64\n",
              "dtype: object"
            ]
          },
          "metadata": {
            "tags": []
          },
          "execution_count": 192
        }
      ]
    },
    {
      "cell_type": "code",
      "metadata": {
        "id": "Iuah8YQJFRMh",
        "colab": {
          "base_uri": "https://localhost:8080/",
          "height": 360
        },
        "outputId": "c8eb7ed1-e958-4630-8c7c-631f02156f4f"
      },
      "source": [
        "train_csv.head()"
      ],
      "execution_count": 193,
      "outputs": [
        {
          "output_type": "execute_result",
          "data": {
            "text/html": [
              "<div>\n",
              "<style scoped>\n",
              "    .dataframe tbody tr th:only-of-type {\n",
              "        vertical-align: middle;\n",
              "    }\n",
              "\n",
              "    .dataframe tbody tr th {\n",
              "        vertical-align: top;\n",
              "    }\n",
              "\n",
              "    .dataframe thead th {\n",
              "        text-align: right;\n",
              "    }\n",
              "</style>\n",
              "<table border=\"1\" class=\"dataframe\">\n",
              "  <thead>\n",
              "    <tr style=\"text-align: right;\">\n",
              "      <th></th>\n",
              "      <th>Industry</th>\n",
              "      <th>Deal_value</th>\n",
              "      <th>Weighted_amount</th>\n",
              "      <th>Date_of_creation</th>\n",
              "      <th>Pitch</th>\n",
              "      <th>Lead_revenue</th>\n",
              "      <th>Fund_category</th>\n",
              "      <th>Geography</th>\n",
              "      <th>Location</th>\n",
              "      <th>POC_name</th>\n",
              "      <th>Designation</th>\n",
              "      <th>Hiring_candidate_role</th>\n",
              "      <th>Lead_source</th>\n",
              "      <th>Level_of_meeting</th>\n",
              "      <th>Last_lead_update</th>\n",
              "      <th>Internal_POC</th>\n",
              "      <th>Resource</th>\n",
              "      <th>Internal_rating</th>\n",
              "      <th>Success_probability</th>\n",
              "    </tr>\n",
              "  </thead>\n",
              "  <tbody>\n",
              "    <tr>\n",
              "      <th>0</th>\n",
              "      <td>Restaurants</td>\n",
              "      <td>320506$</td>\n",
              "      <td>2067263.7$</td>\n",
              "      <td>2020-03-29</td>\n",
              "      <td>Product_2</td>\n",
              "      <td>50 - 100 Million</td>\n",
              "      <td>Category 2</td>\n",
              "      <td>USA</td>\n",
              "      <td>Killeen-Temple, TX</td>\n",
              "      <td>Charlene Werner</td>\n",
              "      <td>Executive Vice President</td>\n",
              "      <td>Community pharmacist</td>\n",
              "      <td>Website</td>\n",
              "      <td>Level 3</td>\n",
              "      <td>No track</td>\n",
              "      <td>Davis,Sharrice A</td>\n",
              "      <td>No</td>\n",
              "      <td>3</td>\n",
              "      <td>73.6</td>\n",
              "    </tr>\n",
              "    <tr>\n",
              "      <th>1</th>\n",
              "      <td>Construction Services</td>\n",
              "      <td>39488$</td>\n",
              "      <td>240876.8$</td>\n",
              "      <td>2019-07-10</td>\n",
              "      <td>Product_2</td>\n",
              "      <td>500 Million - 1 Billion</td>\n",
              "      <td>Category 4</td>\n",
              "      <td>India</td>\n",
              "      <td>Ratlam</td>\n",
              "      <td>rakhi</td>\n",
              "      <td>Chairman/CEO/President</td>\n",
              "      <td>Recruitment consultant</td>\n",
              "      <td>Others</td>\n",
              "      <td>Level 1</td>\n",
              "      <td>Did not hear back after Level 1</td>\n",
              "      <td>Brown,Maxine A</td>\n",
              "      <td>No</td>\n",
              "      <td>5</td>\n",
              "      <td>58.9</td>\n",
              "    </tr>\n",
              "    <tr>\n",
              "      <th>2</th>\n",
              "      <td>Hospitals/Clinics</td>\n",
              "      <td>359392$</td>\n",
              "      <td>2407926.4$</td>\n",
              "      <td>2019-07-27</td>\n",
              "      <td>Product_1</td>\n",
              "      <td>500 Million - 1 Billion</td>\n",
              "      <td>Category 4</td>\n",
              "      <td>USA</td>\n",
              "      <td>Albany-Schenectady-Troy, NY</td>\n",
              "      <td>Ariel Hamilton</td>\n",
              "      <td>SVP/General Counsel</td>\n",
              "      <td>Health service manager</td>\n",
              "      <td>Marketing Event</td>\n",
              "      <td>Level 1</td>\n",
              "      <td>?</td>\n",
              "      <td>Georgakopoulos,Vasilios T</td>\n",
              "      <td>No</td>\n",
              "      <td>4</td>\n",
              "      <td>68.8</td>\n",
              "    </tr>\n",
              "    <tr>\n",
              "      <th>3</th>\n",
              "      <td>Real Estate</td>\n",
              "      <td>76774$</td>\n",
              "      <td>468321.4$</td>\n",
              "      <td>2021-01-30</td>\n",
              "      <td>Product_2</td>\n",
              "      <td>500 Million - 1 Billion</td>\n",
              "      <td>Category 3</td>\n",
              "      <td>USA</td>\n",
              "      <td>Mount Vernon-Anacortes, WA</td>\n",
              "      <td>Erin Wilson</td>\n",
              "      <td>CEO/Co-Founder/Chairman</td>\n",
              "      <td>Therapist, speech and language</td>\n",
              "      <td>Contact Email</td>\n",
              "      <td>Level 2</td>\n",
              "      <td>Did not hear back after Level 1</td>\n",
              "      <td>Brown,Maxine A</td>\n",
              "      <td>We have all the requirements</td>\n",
              "      <td>1</td>\n",
              "      <td>64.5</td>\n",
              "    </tr>\n",
              "    <tr>\n",
              "      <th>4</th>\n",
              "      <td>Financial Services</td>\n",
              "      <td>483896$</td>\n",
              "      <td>NaN</td>\n",
              "      <td>2019-05-22</td>\n",
              "      <td>Product_2</td>\n",
              "      <td>50 - 100 Million</td>\n",
              "      <td>Category 3</td>\n",
              "      <td>India</td>\n",
              "      <td>Shimoga</td>\n",
              "      <td>kavita</td>\n",
              "      <td>Executive Vice President</td>\n",
              "      <td>Media planner</td>\n",
              "      <td>Website</td>\n",
              "      <td>Level 2</td>\n",
              "      <td>Up-to-date</td>\n",
              "      <td>Thomas,Lori E</td>\n",
              "      <td>No</td>\n",
              "      <td>4</td>\n",
              "      <td>62.4</td>\n",
              "    </tr>\n",
              "  </tbody>\n",
              "</table>\n",
              "</div>"
            ],
            "text/plain": [
              "                Industry Deal_value  ... Internal_rating Success_probability\n",
              "0            Restaurants    320506$  ...               3                73.6\n",
              "1  Construction Services     39488$  ...               5                58.9\n",
              "2      Hospitals/Clinics    359392$  ...               4                68.8\n",
              "3            Real Estate     76774$  ...               1                64.5\n",
              "4     Financial Services    483896$  ...               4                62.4\n",
              "\n",
              "[5 rows x 19 columns]"
            ]
          },
          "metadata": {
            "tags": []
          },
          "execution_count": 193
        }
      ]
    },
    {
      "cell_type": "code",
      "metadata": {
        "id": "Hn0Z5R9lKrJ6",
        "colab": {
          "base_uri": "https://localhost:8080/"
        },
        "outputId": "7e8132d1-320a-42ab-fda9-54ea718badb5"
      },
      "source": [
        "# identify where all question marks exists in the dataset\n",
        "for col in train_csv[[\"Lead_source\",\"Last_lead_update\",\"Resource\"]]:\n",
        "  print(\"#########################\")\n",
        "  print(col)\n",
        "  print(train_csv[col].value_counts())  "
      ],
      "execution_count": 194,
      "outputs": [
        {
          "output_type": "stream",
          "text": [
            "#########################\n",
            "Lead_source\n",
            "Marketing Event    1824\n",
            "Contact Email      1746\n",
            "Others             1737\n",
            "Website            1700\n",
            "Name: Lead_source, dtype: int64\n",
            "#########################\n",
            "Last_lead_update\n",
            "Following up but lead not responding    1260\n",
            "Up-to-date                               623\n",
            "more than a month                        605\n",
            "No track                                 601\n",
            "?                                        585\n",
            "5 days back                              564\n",
            "2 days back                              559\n",
            "More than 2 weeks                        556\n",
            "More than a week back                    554\n",
            "Did not hear back after Level 1          553\n",
            "Pending                                  547\n",
            "Name: Last_lead_update, dtype: int64\n",
            "#########################\n",
            "Resource\n",
            "No                              1328\n",
            "We have all the requirements    1160\n",
            "Not enough                      1145\n",
            "Deliverable                     1131\n",
            "Yes                             1130\n",
            "Cannot deliver                  1113\n",
            "Name: Resource, dtype: int64\n"
          ],
          "name": "stdout"
        }
      ]
    },
    {
      "cell_type": "code",
      "metadata": {
        "colab": {
          "base_uri": "https://localhost:8080/"
        },
        "id": "cXorpm1ZxcX9",
        "outputId": "d88c5e89-0ee6-4fa8-e153-4ff29ca4418c"
      },
      "source": [
        "print(train_csv[\"Last_lead_update\"].value_counts())"
      ],
      "execution_count": 195,
      "outputs": [
        {
          "output_type": "stream",
          "text": [
            "Following up but lead not responding    1260\n",
            "Up-to-date                               623\n",
            "more than a month                        605\n",
            "No track                                 601\n",
            "?                                        585\n",
            "5 days back                              564\n",
            "2 days back                              559\n",
            "More than 2 weeks                        556\n",
            "More than a week back                    554\n",
            "Did not hear back after Level 1          553\n",
            "Pending                                  547\n",
            "Name: Last_lead_update, dtype: int64\n"
          ],
          "name": "stdout"
        }
      ]
    },
    {
      "cell_type": "code",
      "metadata": {
        "id": "1lA5R7wAM-zN"
      },
      "source": [
        "# replace all ? bytheir columns mode \n",
        "train_csv[\"Last_lead_update\"].replace({\"?\":train_csv[\"Last_lead_update\"].mode()[0]},inplace = True)\n",
        "test_csv[\"Last_lead_update\"].replace({\"?\":test_csv[\"Last_lead_update\"].mode()[0]},inplace = True) "
      ],
      "execution_count": 196,
      "outputs": []
    },
    {
      "cell_type": "code",
      "metadata": {
        "id": "j8juVJy9NwfA",
        "colab": {
          "base_uri": "https://localhost:8080/"
        },
        "outputId": "ad2af017-fc9f-4dfe-8d52-69a707d40e23"
      },
      "source": [
        "train_csv[\"Last_lead_update\"].value_counts()"
      ],
      "execution_count": 197,
      "outputs": [
        {
          "output_type": "execute_result",
          "data": {
            "text/plain": [
              "Following up but lead not responding    1845\n",
              "Up-to-date                               623\n",
              "more than a month                        605\n",
              "No track                                 601\n",
              "5 days back                              564\n",
              "2 days back                              559\n",
              "More than 2 weeks                        556\n",
              "More than a week back                    554\n",
              "Did not hear back after Level 1          553\n",
              "Pending                                  547\n",
              "Name: Last_lead_update, dtype: int64"
            ]
          },
          "metadata": {
            "tags": []
          },
          "execution_count": 197
        }
      ]
    },
    {
      "cell_type": "code",
      "metadata": {
        "id": "_LQoxhhAOf2v"
      },
      "source": [
        ""
      ],
      "execution_count": 197,
      "outputs": []
    },
    {
      "cell_type": "code",
      "metadata": {
        "id": "mi9Z1NLQODrb",
        "colab": {
          "base_uri": "https://localhost:8080/"
        },
        "outputId": "8f27ddd2-2344-4577-eef0-63d5c08e3b43"
      },
      "source": [
        "train_csv.isna().sum()"
      ],
      "execution_count": 198,
      "outputs": [
        {
          "output_type": "execute_result",
          "data": {
            "text/plain": [
              "Industry                   0\n",
              "Deal_value                51\n",
              "Weighted_amount          525\n",
              "Date_of_creation           0\n",
              "Pitch                      0\n",
              "Lead_revenue               0\n",
              "Fund_category              0\n",
              "Geography                  0\n",
              "Location                   0\n",
              "POC_name                   0\n",
              "Designation                0\n",
              "Hiring_candidate_role      0\n",
              "Lead_source                0\n",
              "Level_of_meeting           0\n",
              "Last_lead_update           0\n",
              "Internal_POC               0\n",
              "Resource                   0\n",
              "Internal_rating            0\n",
              "Success_probability        0\n",
              "dtype: int64"
            ]
          },
          "metadata": {
            "tags": []
          },
          "execution_count": 198
        }
      ]
    },
    {
      "cell_type": "code",
      "metadata": {
        "id": "OH1YIPJCSfOA",
        "colab": {
          "base_uri": "https://localhost:8080/",
          "height": 134
        },
        "outputId": "64c1f49c-30af-4051-f74e-ba7a6e50e825"
      },
      "source": [
        "train_csv.head(1)"
      ],
      "execution_count": 199,
      "outputs": [
        {
          "output_type": "execute_result",
          "data": {
            "text/html": [
              "<div>\n",
              "<style scoped>\n",
              "    .dataframe tbody tr th:only-of-type {\n",
              "        vertical-align: middle;\n",
              "    }\n",
              "\n",
              "    .dataframe tbody tr th {\n",
              "        vertical-align: top;\n",
              "    }\n",
              "\n",
              "    .dataframe thead th {\n",
              "        text-align: right;\n",
              "    }\n",
              "</style>\n",
              "<table border=\"1\" class=\"dataframe\">\n",
              "  <thead>\n",
              "    <tr style=\"text-align: right;\">\n",
              "      <th></th>\n",
              "      <th>Industry</th>\n",
              "      <th>Deal_value</th>\n",
              "      <th>Weighted_amount</th>\n",
              "      <th>Date_of_creation</th>\n",
              "      <th>Pitch</th>\n",
              "      <th>Lead_revenue</th>\n",
              "      <th>Fund_category</th>\n",
              "      <th>Geography</th>\n",
              "      <th>Location</th>\n",
              "      <th>POC_name</th>\n",
              "      <th>Designation</th>\n",
              "      <th>Hiring_candidate_role</th>\n",
              "      <th>Lead_source</th>\n",
              "      <th>Level_of_meeting</th>\n",
              "      <th>Last_lead_update</th>\n",
              "      <th>Internal_POC</th>\n",
              "      <th>Resource</th>\n",
              "      <th>Internal_rating</th>\n",
              "      <th>Success_probability</th>\n",
              "    </tr>\n",
              "  </thead>\n",
              "  <tbody>\n",
              "    <tr>\n",
              "      <th>0</th>\n",
              "      <td>Restaurants</td>\n",
              "      <td>320506$</td>\n",
              "      <td>2067263.7$</td>\n",
              "      <td>2020-03-29</td>\n",
              "      <td>Product_2</td>\n",
              "      <td>50 - 100 Million</td>\n",
              "      <td>Category 2</td>\n",
              "      <td>USA</td>\n",
              "      <td>Killeen-Temple, TX</td>\n",
              "      <td>Charlene Werner</td>\n",
              "      <td>Executive Vice President</td>\n",
              "      <td>Community pharmacist</td>\n",
              "      <td>Website</td>\n",
              "      <td>Level 3</td>\n",
              "      <td>No track</td>\n",
              "      <td>Davis,Sharrice A</td>\n",
              "      <td>No</td>\n",
              "      <td>3</td>\n",
              "      <td>73.6</td>\n",
              "    </tr>\n",
              "  </tbody>\n",
              "</table>\n",
              "</div>"
            ],
            "text/plain": [
              "      Industry Deal_value  ... Internal_rating Success_probability\n",
              "0  Restaurants    320506$  ...               3                73.6\n",
              "\n",
              "[1 rows x 19 columns]"
            ]
          },
          "metadata": {
            "tags": []
          },
          "execution_count": 199
        }
      ]
    },
    {
      "cell_type": "code",
      "metadata": {
        "id": "WNCHNjyGSZ2U"
      },
      "source": [
        "# splitting the str into 2 parts and removing the $ sign\n",
        "Deal_value = train_csv[\"Deal_value\"].str.split(\"$\",n = 1,expand = True)\n",
        "train_csv[\"Deal_value\"] = Deal_value[0]\n",
        "Weighted_amount = train_csv[\"Weighted_amount\"].str.split(\"$\",n = 1,expand = True)\n",
        "train_csv[\"Weighted_amount\"] = Weighted_amount[0]  "
      ],
      "execution_count": 200,
      "outputs": []
    },
    {
      "cell_type": "code",
      "metadata": {
        "id": "Q12ZvGbRxqkw"
      },
      "source": [
        "Deal_value = test_csv[\"Deal_value\"].str.split(\"$\",n = 1,expand = True)\n",
        "test_csv[\"Deal_value\"] = Deal_value[0]\n",
        "Weighted_amount = test_csv[\"Weighted_amount\"].str.split(\"$\",n = 1,expand = True)\n",
        "test_csv[\"Weighted_amount\"] = Weighted_amount[0]"
      ],
      "execution_count": 201,
      "outputs": []
    },
    {
      "cell_type": "code",
      "metadata": {
        "id": "QGR18A4Yndts",
        "colab": {
          "base_uri": "https://localhost:8080/"
        },
        "outputId": "e5a81b7e-eab0-4cd2-d85c-92e6e7a6964a"
      },
      "source": [
        "train_csv.dtypes"
      ],
      "execution_count": 202,
      "outputs": [
        {
          "output_type": "execute_result",
          "data": {
            "text/plain": [
              "Industry                  object\n",
              "Deal_value                object\n",
              "Weighted_amount           object\n",
              "Date_of_creation          object\n",
              "Pitch                     object\n",
              "Lead_revenue              object\n",
              "Fund_category             object\n",
              "Geography                 object\n",
              "Location                  object\n",
              "POC_name                  object\n",
              "Designation               object\n",
              "Hiring_candidate_role     object\n",
              "Lead_source               object\n",
              "Level_of_meeting          object\n",
              "Last_lead_update          object\n",
              "Internal_POC              object\n",
              "Resource                  object\n",
              "Internal_rating            int64\n",
              "Success_probability      float64\n",
              "dtype: object"
            ]
          },
          "metadata": {
            "tags": []
          },
          "execution_count": 202
        }
      ]
    },
    {
      "cell_type": "code",
      "metadata": {
        "id": "KaLR95hrTc76",
        "colab": {
          "base_uri": "https://localhost:8080/",
          "height": 360
        },
        "outputId": "2437fd8e-808b-47d5-8f79-dc08bf4f2560"
      },
      "source": [
        "train_csv.head()"
      ],
      "execution_count": 203,
      "outputs": [
        {
          "output_type": "execute_result",
          "data": {
            "text/html": [
              "<div>\n",
              "<style scoped>\n",
              "    .dataframe tbody tr th:only-of-type {\n",
              "        vertical-align: middle;\n",
              "    }\n",
              "\n",
              "    .dataframe tbody tr th {\n",
              "        vertical-align: top;\n",
              "    }\n",
              "\n",
              "    .dataframe thead th {\n",
              "        text-align: right;\n",
              "    }\n",
              "</style>\n",
              "<table border=\"1\" class=\"dataframe\">\n",
              "  <thead>\n",
              "    <tr style=\"text-align: right;\">\n",
              "      <th></th>\n",
              "      <th>Industry</th>\n",
              "      <th>Deal_value</th>\n",
              "      <th>Weighted_amount</th>\n",
              "      <th>Date_of_creation</th>\n",
              "      <th>Pitch</th>\n",
              "      <th>Lead_revenue</th>\n",
              "      <th>Fund_category</th>\n",
              "      <th>Geography</th>\n",
              "      <th>Location</th>\n",
              "      <th>POC_name</th>\n",
              "      <th>Designation</th>\n",
              "      <th>Hiring_candidate_role</th>\n",
              "      <th>Lead_source</th>\n",
              "      <th>Level_of_meeting</th>\n",
              "      <th>Last_lead_update</th>\n",
              "      <th>Internal_POC</th>\n",
              "      <th>Resource</th>\n",
              "      <th>Internal_rating</th>\n",
              "      <th>Success_probability</th>\n",
              "    </tr>\n",
              "  </thead>\n",
              "  <tbody>\n",
              "    <tr>\n",
              "      <th>0</th>\n",
              "      <td>Restaurants</td>\n",
              "      <td>320506</td>\n",
              "      <td>2067263.7</td>\n",
              "      <td>2020-03-29</td>\n",
              "      <td>Product_2</td>\n",
              "      <td>50 - 100 Million</td>\n",
              "      <td>Category 2</td>\n",
              "      <td>USA</td>\n",
              "      <td>Killeen-Temple, TX</td>\n",
              "      <td>Charlene Werner</td>\n",
              "      <td>Executive Vice President</td>\n",
              "      <td>Community pharmacist</td>\n",
              "      <td>Website</td>\n",
              "      <td>Level 3</td>\n",
              "      <td>No track</td>\n",
              "      <td>Davis,Sharrice A</td>\n",
              "      <td>No</td>\n",
              "      <td>3</td>\n",
              "      <td>73.6</td>\n",
              "    </tr>\n",
              "    <tr>\n",
              "      <th>1</th>\n",
              "      <td>Construction Services</td>\n",
              "      <td>39488</td>\n",
              "      <td>240876.8</td>\n",
              "      <td>2019-07-10</td>\n",
              "      <td>Product_2</td>\n",
              "      <td>500 Million - 1 Billion</td>\n",
              "      <td>Category 4</td>\n",
              "      <td>India</td>\n",
              "      <td>Ratlam</td>\n",
              "      <td>rakhi</td>\n",
              "      <td>Chairman/CEO/President</td>\n",
              "      <td>Recruitment consultant</td>\n",
              "      <td>Others</td>\n",
              "      <td>Level 1</td>\n",
              "      <td>Did not hear back after Level 1</td>\n",
              "      <td>Brown,Maxine A</td>\n",
              "      <td>No</td>\n",
              "      <td>5</td>\n",
              "      <td>58.9</td>\n",
              "    </tr>\n",
              "    <tr>\n",
              "      <th>2</th>\n",
              "      <td>Hospitals/Clinics</td>\n",
              "      <td>359392</td>\n",
              "      <td>2407926.4</td>\n",
              "      <td>2019-07-27</td>\n",
              "      <td>Product_1</td>\n",
              "      <td>500 Million - 1 Billion</td>\n",
              "      <td>Category 4</td>\n",
              "      <td>USA</td>\n",
              "      <td>Albany-Schenectady-Troy, NY</td>\n",
              "      <td>Ariel Hamilton</td>\n",
              "      <td>SVP/General Counsel</td>\n",
              "      <td>Health service manager</td>\n",
              "      <td>Marketing Event</td>\n",
              "      <td>Level 1</td>\n",
              "      <td>Following up but lead not responding</td>\n",
              "      <td>Georgakopoulos,Vasilios T</td>\n",
              "      <td>No</td>\n",
              "      <td>4</td>\n",
              "      <td>68.8</td>\n",
              "    </tr>\n",
              "    <tr>\n",
              "      <th>3</th>\n",
              "      <td>Real Estate</td>\n",
              "      <td>76774</td>\n",
              "      <td>468321.4</td>\n",
              "      <td>2021-01-30</td>\n",
              "      <td>Product_2</td>\n",
              "      <td>500 Million - 1 Billion</td>\n",
              "      <td>Category 3</td>\n",
              "      <td>USA</td>\n",
              "      <td>Mount Vernon-Anacortes, WA</td>\n",
              "      <td>Erin Wilson</td>\n",
              "      <td>CEO/Co-Founder/Chairman</td>\n",
              "      <td>Therapist, speech and language</td>\n",
              "      <td>Contact Email</td>\n",
              "      <td>Level 2</td>\n",
              "      <td>Did not hear back after Level 1</td>\n",
              "      <td>Brown,Maxine A</td>\n",
              "      <td>We have all the requirements</td>\n",
              "      <td>1</td>\n",
              "      <td>64.5</td>\n",
              "    </tr>\n",
              "    <tr>\n",
              "      <th>4</th>\n",
              "      <td>Financial Services</td>\n",
              "      <td>483896</td>\n",
              "      <td>NaN</td>\n",
              "      <td>2019-05-22</td>\n",
              "      <td>Product_2</td>\n",
              "      <td>50 - 100 Million</td>\n",
              "      <td>Category 3</td>\n",
              "      <td>India</td>\n",
              "      <td>Shimoga</td>\n",
              "      <td>kavita</td>\n",
              "      <td>Executive Vice President</td>\n",
              "      <td>Media planner</td>\n",
              "      <td>Website</td>\n",
              "      <td>Level 2</td>\n",
              "      <td>Up-to-date</td>\n",
              "      <td>Thomas,Lori E</td>\n",
              "      <td>No</td>\n",
              "      <td>4</td>\n",
              "      <td>62.4</td>\n",
              "    </tr>\n",
              "  </tbody>\n",
              "</table>\n",
              "</div>"
            ],
            "text/plain": [
              "                Industry Deal_value  ... Internal_rating Success_probability\n",
              "0            Restaurants     320506  ...               3                73.6\n",
              "1  Construction Services      39488  ...               5                58.9\n",
              "2      Hospitals/Clinics     359392  ...               4                68.8\n",
              "3            Real Estate      76774  ...               1                64.5\n",
              "4     Financial Services     483896  ...               4                62.4\n",
              "\n",
              "[5 rows x 19 columns]"
            ]
          },
          "metadata": {
            "tags": []
          },
          "execution_count": 203
        }
      ]
    },
    {
      "cell_type": "code",
      "metadata": {
        "id": "QeviR2fMXqU_"
      },
      "source": [
        "# converting the 2 col into int or float dtype \n",
        "train_csv[\"Deal_value\"] = train_csv[\"Deal_value\"].astype(str).astype(float)\n",
        "train_csv[\"Weighted_amount\"] = train_csv[\"Weighted_amount\"].astype(str).astype(float)\n",
        "\n",
        "test_csv[\"Deal_value\"] = test_csv[\"Deal_value\"].astype(str).astype(float)\n",
        "test_csv[\"Weighted_amount\"] = test_csv[\"Weighted_amount\"].astype(str).astype(float) "
      ],
      "execution_count": 204,
      "outputs": []
    },
    {
      "cell_type": "code",
      "metadata": {
        "id": "tQO8U9geOg1f"
      },
      "source": [
        "# now we shall try to replace the NaN values in the 2 numerical columns with their columns mean \n",
        "for col in train_csv[[\"Deal_value\",\"Weighted_amount\"]]: \n",
        "  train_csv[col].fillna(train_csv[col].mean(),inplace = True)  \n",
        "  test_csv[col].fillna(test_csv[col].mean(),inplace = True) "
      ],
      "execution_count": 205,
      "outputs": []
    },
    {
      "cell_type": "code",
      "metadata": {
        "colab": {
          "base_uri": "https://localhost:8080/"
        },
        "id": "SJS0AFlSD0w1",
        "outputId": "e44219b1-5547-4b41-cd17-16e880ce11ee"
      },
      "source": [
        "train_csv.nunique()"
      ],
      "execution_count": 206,
      "outputs": [
        {
          "output_type": "execute_result",
          "data": {
            "text/plain": [
              "Industry                  171\n",
              "Deal_value               6908\n",
              "Weighted_amount          6481\n",
              "Date_of_creation          777\n",
              "Pitch                       2\n",
              "Lead_revenue                3\n",
              "Fund_category               4\n",
              "Geography                   2\n",
              "Location                  597\n",
              "POC_name                 5261\n",
              "Designation                10\n",
              "Hiring_candidate_role     639\n",
              "Lead_source                 4\n",
              "Level_of_meeting            3\n",
              "Last_lead_update           10\n",
              "Internal_POC               60\n",
              "Resource                    6\n",
              "Internal_rating             5\n",
              "Success_probability       248\n",
              "dtype: int64"
            ]
          },
          "metadata": {
            "tags": []
          },
          "execution_count": 206
        }
      ]
    },
    {
      "cell_type": "code",
      "metadata": {
        "colab": {
          "base_uri": "https://localhost:8080/"
        },
        "id": "jOmc6vcLbXXv",
        "outputId": "9f0679cf-edda-4345-e0a4-3b2d9b8dccda"
      },
      "source": [
        "train_csv.isna().sum()"
      ],
      "execution_count": 207,
      "outputs": [
        {
          "output_type": "execute_result",
          "data": {
            "text/plain": [
              "Industry                 0\n",
              "Deal_value               0\n",
              "Weighted_amount          0\n",
              "Date_of_creation         0\n",
              "Pitch                    0\n",
              "Lead_revenue             0\n",
              "Fund_category            0\n",
              "Geography                0\n",
              "Location                 0\n",
              "POC_name                 0\n",
              "Designation              0\n",
              "Hiring_candidate_role    0\n",
              "Lead_source              0\n",
              "Level_of_meeting         0\n",
              "Last_lead_update         0\n",
              "Internal_POC             0\n",
              "Resource                 0\n",
              "Internal_rating          0\n",
              "Success_probability      0\n",
              "dtype: int64"
            ]
          },
          "metadata": {
            "tags": []
          },
          "execution_count": 207
        }
      ]
    },
    {
      "cell_type": "code",
      "metadata": {
        "colab": {
          "base_uri": "https://localhost:8080/",
          "height": 134
        },
        "id": "xU4E22gIT9Si",
        "outputId": "ed9b75de-73af-4aed-de0e-8f5311c56866"
      },
      "source": [
        "train_csv.head(1)"
      ],
      "execution_count": 208,
      "outputs": [
        {
          "output_type": "execute_result",
          "data": {
            "text/html": [
              "<div>\n",
              "<style scoped>\n",
              "    .dataframe tbody tr th:only-of-type {\n",
              "        vertical-align: middle;\n",
              "    }\n",
              "\n",
              "    .dataframe tbody tr th {\n",
              "        vertical-align: top;\n",
              "    }\n",
              "\n",
              "    .dataframe thead th {\n",
              "        text-align: right;\n",
              "    }\n",
              "</style>\n",
              "<table border=\"1\" class=\"dataframe\">\n",
              "  <thead>\n",
              "    <tr style=\"text-align: right;\">\n",
              "      <th></th>\n",
              "      <th>Industry</th>\n",
              "      <th>Deal_value</th>\n",
              "      <th>Weighted_amount</th>\n",
              "      <th>Date_of_creation</th>\n",
              "      <th>Pitch</th>\n",
              "      <th>Lead_revenue</th>\n",
              "      <th>Fund_category</th>\n",
              "      <th>Geography</th>\n",
              "      <th>Location</th>\n",
              "      <th>POC_name</th>\n",
              "      <th>Designation</th>\n",
              "      <th>Hiring_candidate_role</th>\n",
              "      <th>Lead_source</th>\n",
              "      <th>Level_of_meeting</th>\n",
              "      <th>Last_lead_update</th>\n",
              "      <th>Internal_POC</th>\n",
              "      <th>Resource</th>\n",
              "      <th>Internal_rating</th>\n",
              "      <th>Success_probability</th>\n",
              "    </tr>\n",
              "  </thead>\n",
              "  <tbody>\n",
              "    <tr>\n",
              "      <th>0</th>\n",
              "      <td>Restaurants</td>\n",
              "      <td>320506.0</td>\n",
              "      <td>2067263.7</td>\n",
              "      <td>2020-03-29</td>\n",
              "      <td>Product_2</td>\n",
              "      <td>50 - 100 Million</td>\n",
              "      <td>Category 2</td>\n",
              "      <td>USA</td>\n",
              "      <td>Killeen-Temple, TX</td>\n",
              "      <td>Charlene Werner</td>\n",
              "      <td>Executive Vice President</td>\n",
              "      <td>Community pharmacist</td>\n",
              "      <td>Website</td>\n",
              "      <td>Level 3</td>\n",
              "      <td>No track</td>\n",
              "      <td>Davis,Sharrice A</td>\n",
              "      <td>No</td>\n",
              "      <td>3</td>\n",
              "      <td>73.6</td>\n",
              "    </tr>\n",
              "  </tbody>\n",
              "</table>\n",
              "</div>"
            ],
            "text/plain": [
              "      Industry  Deal_value  ...  Internal_rating Success_probability\n",
              "0  Restaurants    320506.0  ...                3                73.6\n",
              "\n",
              "[1 rows x 19 columns]"
            ]
          },
          "metadata": {
            "tags": []
          },
          "execution_count": 208
        }
      ]
    },
    {
      "cell_type": "code",
      "metadata": {
        "colab": {
          "base_uri": "https://localhost:8080/",
          "height": 282
        },
        "id": "qFfFebJmwTX8",
        "outputId": "49a43e73-e57c-44b6-e2d2-8822f34d1df7"
      },
      "source": [
        "plt.plot_date(train_csv[\"Date_of_creation\"],train_csv[\"Success_probability\"]) "
      ],
      "execution_count": 209,
      "outputs": [
        {
          "output_type": "execute_result",
          "data": {
            "text/plain": [
              "[<matplotlib.lines.Line2D at 0x7f11e26af4d0>]"
            ]
          },
          "metadata": {
            "tags": []
          },
          "execution_count": 209
        },
        {
          "output_type": "display_data",
          "data": {
            "image/png": "[encoded data removed]",
            "text/plain": [
              "<Figure size 432x288 with 1 Axes>"
            ]
          },
          "metadata": {
            "tags": [],
            "needs_background": "light"
          }
        }
      ]
    },
    {
      "cell_type": "code",
      "metadata": {
        "id": "OzvL3gK8xpXH"
      },
      "source": [
        "import seaborn as sns"
      ],
      "execution_count": 210,
      "outputs": []
    },
    {
      "cell_type": "code",
      "metadata": {
        "colab": {
          "base_uri": "https://localhost:8080/",
          "height": 297
        },
        "id": "G095NFLRr7SJ",
        "outputId": "e3394076-78af-4355-fb1a-854b4744d752"
      },
      "source": [
        "sns.scatterplot(x =\"Lead_revenue\",y =\"Resource\",hue = \"Geography\",data = train_csv)"
      ],
      "execution_count": 211,
      "outputs": [
        {
          "output_type": "execute_result",
          "data": {
            "text/plain": [
              "<matplotlib.axes._subplots.AxesSubplot at 0x7f11e1facfd0>"
            ]
          },
          "metadata": {
            "tags": []
          },
          "execution_count": 211
        },
        {
          "output_type": "display_data",
          "data": {
            "image/png": "[encoded data removed]",
            "text/plain": [
              "<Figure size 432x288 with 1 Axes>"
            ]
          },
          "metadata": {
            "tags": [],
            "needs_background": "light"
          }
        }
      ]
    },
    {
      "cell_type": "code",
      "metadata": {
        "colab": {
          "base_uri": "https://localhost:8080/",
          "height": 297
        },
        "id": "Iv78utQsv5r8",
        "outputId": "2b1ac22f-9565-4566-b794-2ac8f3f2699d"
      },
      "source": [
        "sns.scatterplot(x =\"Lead_revenue\",y =\"Resource\",hue = \"Success_probability\",data = train_csv)"
      ],
      "execution_count": 212,
      "outputs": [
        {
          "output_type": "execute_result",
          "data": {
            "text/plain": [
              "<matplotlib.axes._subplots.AxesSubplot at 0x7f11e1f4d090>"
            ]
          },
          "metadata": {
            "tags": []
          },
          "execution_count": 212
        },
        {
          "output_type": "display_data",
          "data": {
            "image/png": "[encoded data removed]",
            "text/plain": [
              "<Figure size 432x288 with 1 Axes>"
            ]
          },
          "metadata": {
            "tags": [],
            "needs_background": "light"
          }
        }
      ]
    },
    {
      "cell_type": "code",
      "metadata": {
        "colab": {
          "base_uri": "https://localhost:8080/"
        },
        "id": "hqtAmQqrsB5k",
        "outputId": "3e518435-6096-466d-ce44-9190675b04c6"
      },
      "source": [
        "train_csv.nunique()"
      ],
      "execution_count": 213,
      "outputs": [
        {
          "output_type": "execute_result",
          "data": {
            "text/plain": [
              "Industry                  171\n",
              "Deal_value               6908\n",
              "Weighted_amount          6481\n",
              "Date_of_creation          777\n",
              "Pitch                       2\n",
              "Lead_revenue                3\n",
              "Fund_category               4\n",
              "Geography                   2\n",
              "Location                  597\n",
              "POC_name                 5261\n",
              "Designation                10\n",
              "Hiring_candidate_role     639\n",
              "Lead_source                 4\n",
              "Level_of_meeting            3\n",
              "Last_lead_update           10\n",
              "Internal_POC               60\n",
              "Resource                    6\n",
              "Internal_rating             5\n",
              "Success_probability       248\n",
              "dtype: int64"
            ]
          },
          "metadata": {
            "tags": []
          },
          "execution_count": 213
        }
      ]
    },
    {
      "cell_type": "code",
      "metadata": {
        "colab": {
          "base_uri": "https://localhost:8080/",
          "height": 456
        },
        "id": "q9YAcpO4klnU",
        "outputId": "d9e9efbf-c5ad-4acd-8084-cdbe2ff2f814"
      },
      "source": [
        "g = sns.catplot(\n",
        "    data= train_csv, kind=\"bar\",\n",
        "    x=\"Level_of_meeting\", y=\"Success_probability\",\n",
        "    ci=\"sd\", palette=\"dark\", alpha=.6, height=6\n",
        ")"
      ],
      "execution_count": 214,
      "outputs": [
        {
          "output_type": "display_data",
          "data": {
            "image/png": "[encoded data removed]",
            "text/plain": [
              "<Figure size 432x432 with 1 Axes>"
            ]
          },
          "metadata": {
            "tags": [],
            "needs_background": "light"
          }
        }
      ]
    },
    {
      "cell_type": "code",
      "metadata": {
        "colab": {
          "base_uri": "https://localhost:8080/",
          "height": 162
        },
        "id": "ZXWgDadYGDow",
        "outputId": "aa097756-b549-4b1e-c757-68c2135af7bd"
      },
      "source": [
        "from sklearn import preprocessing\n",
        "le = preprocessing.LabelEncoder()\n",
        "cat1 = train_csv.iloc[:,3:-2]\n",
        "cat2 = test_csv.iloc[:,3:-1]\n",
        "for col in cat1:\n",
        "  train_csv[col] = train_csv[col].astype(str)\n",
        "  train_csv[col] = le.fit_transform(train_csv[col])\n",
        "train_csv[\"Industry\"] = le.fit_transform(train_csv[\"Industry\"])\n",
        "\n",
        "for col in cat2:\n",
        "  test_csv[col] = test_csv[col].astype(str)\n",
        "  test_csv[col] = le.fit_transform(test_csv[col])\n",
        "test_csv[\"Industry\"] = le.fit_transform(test_csv[\"Industry\"]) \n",
        "train_csv.head(3)"
      ],
      "execution_count": 215,
      "outputs": [
        {
          "output_type": "execute_result",
          "data": {
            "text/html": [
              "<div>\n",
              "<style scoped>\n",
              "    .dataframe tbody tr th:only-of-type {\n",
              "        vertical-align: middle;\n",
              "    }\n",
              "\n",
              "    .dataframe tbody tr th {\n",
              "        vertical-align: top;\n",
              "    }\n",
              "\n",
              "    .dataframe thead th {\n",
              "        text-align: right;\n",
              "    }\n",
              "</style>\n",
              "<table border=\"1\" class=\"dataframe\">\n",
              "  <thead>\n",
              "    <tr style=\"text-align: right;\">\n",
              "      <th></th>\n",
              "      <th>Industry</th>\n",
              "      <th>Deal_value</th>\n",
              "      <th>Weighted_amount</th>\n",
              "      <th>Date_of_creation</th>\n",
              "      <th>Pitch</th>\n",
              "      <th>Lead_revenue</th>\n",
              "      <th>Fund_category</th>\n",
              "      <th>Geography</th>\n",
              "      <th>Location</th>\n",
              "      <th>POC_name</th>\n",
              "      <th>Designation</th>\n",
              "      <th>Hiring_candidate_role</th>\n",
              "      <th>Lead_source</th>\n",
              "      <th>Level_of_meeting</th>\n",
              "      <th>Last_lead_update</th>\n",
              "      <th>Internal_POC</th>\n",
              "      <th>Resource</th>\n",
              "      <th>Internal_rating</th>\n",
              "      <th>Success_probability</th>\n",
              "    </tr>\n",
              "  </thead>\n",
              "  <tbody>\n",
              "    <tr>\n",
              "      <th>0</th>\n",
              "      <td>119</td>\n",
              "      <td>320506.0</td>\n",
              "      <td>2067263.7</td>\n",
              "      <td>453</td>\n",
              "      <td>1</td>\n",
              "      <td>1</td>\n",
              "      <td>1</td>\n",
              "      <td>1</td>\n",
              "      <td>292</td>\n",
              "      <td>568</td>\n",
              "      <td>7</td>\n",
              "      <td>126</td>\n",
              "      <td>3</td>\n",
              "      <td>2</td>\n",
              "      <td>6</td>\n",
              "      <td>12</td>\n",
              "      <td>2</td>\n",
              "      <td>3</td>\n",
              "      <td>73.6</td>\n",
              "    </tr>\n",
              "    <tr>\n",
              "      <th>1</th>\n",
              "      <td>31</td>\n",
              "      <td>39488.0</td>\n",
              "      <td>240876.8</td>\n",
              "      <td>190</td>\n",
              "      <td>1</td>\n",
              "      <td>2</td>\n",
              "      <td>3</td>\n",
              "      <td>0</td>\n",
              "      <td>457</td>\n",
              "      <td>4528</td>\n",
              "      <td>4</td>\n",
              "      <td>501</td>\n",
              "      <td>2</td>\n",
              "      <td>0</td>\n",
              "      <td>2</td>\n",
              "      <td>5</td>\n",
              "      <td>2</td>\n",
              "      <td>5</td>\n",
              "      <td>58.9</td>\n",
              "    </tr>\n",
              "    <tr>\n",
              "      <th>2</th>\n",
              "      <td>56</td>\n",
              "      <td>359392.0</td>\n",
              "      <td>2407926.4</td>\n",
              "      <td>207</td>\n",
              "      <td>0</td>\n",
              "      <td>2</td>\n",
              "      <td>3</td>\n",
              "      <td>1</td>\n",
              "      <td>15</td>\n",
              "      <td>272</td>\n",
              "      <td>8</td>\n",
              "      <td>286</td>\n",
              "      <td>1</td>\n",
              "      <td>0</td>\n",
              "      <td>3</td>\n",
              "      <td>18</td>\n",
              "      <td>2</td>\n",
              "      <td>4</td>\n",
              "      <td>68.8</td>\n",
              "    </tr>\n",
              "  </tbody>\n",
              "</table>\n",
              "</div>"
            ],
            "text/plain": [
              "   Industry  Deal_value  ...  Internal_rating  Success_probability\n",
              "0       119    320506.0  ...                3                 73.6\n",
              "1        31     39488.0  ...                5                 58.9\n",
              "2        56    359392.0  ...                4                 68.8\n",
              "\n",
              "[3 rows x 19 columns]"
            ]
          },
          "metadata": {
            "tags": []
          },
          "execution_count": 215
        }
      ]
    },
    {
      "cell_type": "code",
      "metadata": {
        "colab": {
          "base_uri": "https://localhost:8080/",
          "height": 162
        },
        "id": "hgrhLB6ByVS8",
        "outputId": "5bcae228-268f-4d6d-8278-83e246f534ea"
      },
      "source": [
        "test_csv.head(3)"
      ],
      "execution_count": 216,
      "outputs": [
        {
          "output_type": "execute_result",
          "data": {
            "text/html": [
              "<div>\n",
              "<style scoped>\n",
              "    .dataframe tbody tr th:only-of-type {\n",
              "        vertical-align: middle;\n",
              "    }\n",
              "\n",
              "    .dataframe tbody tr th {\n",
              "        vertical-align: top;\n",
              "    }\n",
              "\n",
              "    .dataframe thead th {\n",
              "        text-align: right;\n",
              "    }\n",
              "</style>\n",
              "<table border=\"1\" class=\"dataframe\">\n",
              "  <thead>\n",
              "    <tr style=\"text-align: right;\">\n",
              "      <th></th>\n",
              "      <th>Industry</th>\n",
              "      <th>Deal_value</th>\n",
              "      <th>Weighted_amount</th>\n",
              "      <th>Date_of_creation</th>\n",
              "      <th>Pitch</th>\n",
              "      <th>Lead_revenue</th>\n",
              "      <th>Fund_category</th>\n",
              "      <th>Geography</th>\n",
              "      <th>Location</th>\n",
              "      <th>POC_name</th>\n",
              "      <th>Designation</th>\n",
              "      <th>Hiring_candidate_role</th>\n",
              "      <th>Lead_source</th>\n",
              "      <th>Level_of_meeting</th>\n",
              "      <th>Last_lead_update</th>\n",
              "      <th>Internal_POC</th>\n",
              "      <th>Resource</th>\n",
              "      <th>Internal_rating</th>\n",
              "    </tr>\n",
              "  </thead>\n",
              "  <tbody>\n",
              "    <tr>\n",
              "      <th>0</th>\n",
              "      <td>55</td>\n",
              "      <td>200988.0</td>\n",
              "      <td>1.556917e+06</td>\n",
              "      <td>427</td>\n",
              "      <td>0</td>\n",
              "      <td>0</td>\n",
              "      <td>3</td>\n",
              "      <td>0</td>\n",
              "      <td>68</td>\n",
              "      <td>1666</td>\n",
              "      <td>4</td>\n",
              "      <td>151</td>\n",
              "      <td>1</td>\n",
              "      <td>0</td>\n",
              "      <td>9</td>\n",
              "      <td>38</td>\n",
              "      <td>2</td>\n",
              "      <td>-1.0</td>\n",
              "    </tr>\n",
              "    <tr>\n",
              "      <th>1</th>\n",
              "      <td>30</td>\n",
              "      <td>409961.0</td>\n",
              "      <td>2.541758e+06</td>\n",
              "      <td>698</td>\n",
              "      <td>0</td>\n",
              "      <td>0</td>\n",
              "      <td>2</td>\n",
              "      <td>1</td>\n",
              "      <td>122</td>\n",
              "      <td>220</td>\n",
              "      <td>2</td>\n",
              "      <td>286</td>\n",
              "      <td>1</td>\n",
              "      <td>1</td>\n",
              "      <td>8</td>\n",
              "      <td>51</td>\n",
              "      <td>5</td>\n",
              "      <td>1.0</td>\n",
              "    </tr>\n",
              "    <tr>\n",
              "      <th>2</th>\n",
              "      <td>13</td>\n",
              "      <td>434433.0</td>\n",
              "      <td>3.041031e+06</td>\n",
              "      <td>519</td>\n",
              "      <td>0</td>\n",
              "      <td>0</td>\n",
              "      <td>0</td>\n",
              "      <td>1</td>\n",
              "      <td>409</td>\n",
              "      <td>44</td>\n",
              "      <td>5</td>\n",
              "      <td>307</td>\n",
              "      <td>1</td>\n",
              "      <td>1</td>\n",
              "      <td>2</td>\n",
              "      <td>19</td>\n",
              "      <td>1</td>\n",
              "      <td>5.0</td>\n",
              "    </tr>\n",
              "  </tbody>\n",
              "</table>\n",
              "</div>"
            ],
            "text/plain": [
              "   Industry  Deal_value  ...  Resource  Internal_rating\n",
              "0        55    200988.0  ...         2             -1.0\n",
              "1        30    409961.0  ...         5              1.0\n",
              "2        13    434433.0  ...         1              5.0\n",
              "\n",
              "[3 rows x 18 columns]"
            ]
          },
          "metadata": {
            "tags": []
          },
          "execution_count": 216
        }
      ]
    },
    {
      "cell_type": "code",
      "metadata": {
        "colab": {
          "base_uri": "https://localhost:8080/"
        },
        "id": "jnumF7s9IiPX",
        "outputId": "a1b3f24e-d57c-4c24-d6e8-705c3129d09d"
      },
      "source": [
        "train_csv.dtypes"
      ],
      "execution_count": 217,
      "outputs": [
        {
          "output_type": "execute_result",
          "data": {
            "text/plain": [
              "Industry                   int64\n",
              "Deal_value               float64\n",
              "Weighted_amount          float64\n",
              "Date_of_creation           int64\n",
              "Pitch                      int64\n",
              "Lead_revenue               int64\n",
              "Fund_category              int64\n",
              "Geography                  int64\n",
              "Location                   int64\n",
              "POC_name                   int64\n",
              "Designation                int64\n",
              "Hiring_candidate_role      int64\n",
              "Lead_source                int64\n",
              "Level_of_meeting           int64\n",
              "Last_lead_update           int64\n",
              "Internal_POC               int64\n",
              "Resource                   int64\n",
              "Internal_rating            int64\n",
              "Success_probability      float64\n",
              "dtype: object"
            ]
          },
          "metadata": {
            "tags": []
          },
          "execution_count": 217
        }
      ]
    },
    {
      "cell_type": "code",
      "metadata": {
        "colab": {
          "base_uri": "https://localhost:8080/",
          "height": 658
        },
        "id": "D0JsfS4WERK2",
        "outputId": "396b6d47-f873-41c3-e4e8-59e8b8f44b96"
      },
      "source": [
        "train_csv.corr(method='pearson')"
      ],
      "execution_count": 218,
      "outputs": [
        {
          "output_type": "execute_result",
          "data": {
            "text/html": [
              "<div>\n",
              "<style scoped>\n",
              "    .dataframe tbody tr th:only-of-type {\n",
              "        vertical-align: middle;\n",
              "    }\n",
              "\n",
              "    .dataframe tbody tr th {\n",
              "        vertical-align: top;\n",
              "    }\n",
              "\n",
              "    .dataframe thead th {\n",
              "        text-align: right;\n",
              "    }\n",
              "</style>\n",
              "<table border=\"1\" class=\"dataframe\">\n",
              "  <thead>\n",
              "    <tr style=\"text-align: right;\">\n",
              "      <th></th>\n",
              "      <th>Industry</th>\n",
              "      <th>Deal_value</th>\n",
              "      <th>Weighted_amount</th>\n",
              "      <th>Date_of_creation</th>\n",
              "      <th>Pitch</th>\n",
              "      <th>Lead_revenue</th>\n",
              "      <th>Fund_category</th>\n",
              "      <th>Geography</th>\n",
              "      <th>Location</th>\n",
              "      <th>POC_name</th>\n",
              "      <th>Designation</th>\n",
              "      <th>Hiring_candidate_role</th>\n",
              "      <th>Lead_source</th>\n",
              "      <th>Level_of_meeting</th>\n",
              "      <th>Last_lead_update</th>\n",
              "      <th>Internal_POC</th>\n",
              "      <th>Resource</th>\n",
              "      <th>Internal_rating</th>\n",
              "      <th>Success_probability</th>\n",
              "    </tr>\n",
              "  </thead>\n",
              "  <tbody>\n",
              "    <tr>\n",
              "      <th>Industry</th>\n",
              "      <td>1.000000</td>\n",
              "      <td>0.009087</td>\n",
              "      <td>0.011828</td>\n",
              "      <td>0.009134</td>\n",
              "      <td>0.007310</td>\n",
              "      <td>-0.002800</td>\n",
              "      <td>-0.000126</td>\n",
              "      <td>-0.009182</td>\n",
              "      <td>0.008167</td>\n",
              "      <td>0.003525</td>\n",
              "      <td>0.005478</td>\n",
              "      <td>-0.008516</td>\n",
              "      <td>-0.013843</td>\n",
              "      <td>0.010619</td>\n",
              "      <td>0.001044</td>\n",
              "      <td>0.017309</td>\n",
              "      <td>-0.018185</td>\n",
              "      <td>0.003557</td>\n",
              "      <td>0.002932</td>\n",
              "    </tr>\n",
              "    <tr>\n",
              "      <th>Deal_value</th>\n",
              "      <td>0.009087</td>\n",
              "      <td>1.000000</td>\n",
              "      <td>0.949552</td>\n",
              "      <td>0.008048</td>\n",
              "      <td>-0.019394</td>\n",
              "      <td>0.003722</td>\n",
              "      <td>-0.007233</td>\n",
              "      <td>0.007866</td>\n",
              "      <td>-0.011073</td>\n",
              "      <td>-0.010022</td>\n",
              "      <td>0.009761</td>\n",
              "      <td>-0.009187</td>\n",
              "      <td>-0.025872</td>\n",
              "      <td>-0.003840</td>\n",
              "      <td>0.005510</td>\n",
              "      <td>-0.019563</td>\n",
              "      <td>0.029391</td>\n",
              "      <td>0.001940</td>\n",
              "      <td>0.019654</td>\n",
              "    </tr>\n",
              "    <tr>\n",
              "      <th>Weighted_amount</th>\n",
              "      <td>0.011828</td>\n",
              "      <td>0.949552</td>\n",
              "      <td>1.000000</td>\n",
              "      <td>0.014427</td>\n",
              "      <td>-0.019445</td>\n",
              "      <td>0.009830</td>\n",
              "      <td>-0.004072</td>\n",
              "      <td>0.031862</td>\n",
              "      <td>-0.015452</td>\n",
              "      <td>-0.031900</td>\n",
              "      <td>0.009528</td>\n",
              "      <td>-0.014662</td>\n",
              "      <td>-0.024476</td>\n",
              "      <td>0.060361</td>\n",
              "      <td>0.008940</td>\n",
              "      <td>-0.015850</td>\n",
              "      <td>0.021979</td>\n",
              "      <td>0.039648</td>\n",
              "      <td>0.035367</td>\n",
              "    </tr>\n",
              "    <tr>\n",
              "      <th>Date_of_creation</th>\n",
              "      <td>0.009134</td>\n",
              "      <td>0.008048</td>\n",
              "      <td>0.014427</td>\n",
              "      <td>1.000000</td>\n",
              "      <td>0.000116</td>\n",
              "      <td>-0.002600</td>\n",
              "      <td>-0.002588</td>\n",
              "      <td>0.002154</td>\n",
              "      <td>-0.001221</td>\n",
              "      <td>-0.009713</td>\n",
              "      <td>0.010071</td>\n",
              "      <td>-0.010313</td>\n",
              "      <td>0.007113</td>\n",
              "      <td>-0.007067</td>\n",
              "      <td>0.020926</td>\n",
              "      <td>0.005477</td>\n",
              "      <td>-0.004466</td>\n",
              "      <td>-0.001871</td>\n",
              "      <td>-0.004220</td>\n",
              "    </tr>\n",
              "    <tr>\n",
              "      <th>Pitch</th>\n",
              "      <td>0.007310</td>\n",
              "      <td>-0.019394</td>\n",
              "      <td>-0.019445</td>\n",
              "      <td>0.000116</td>\n",
              "      <td>1.000000</td>\n",
              "      <td>0.007298</td>\n",
              "      <td>0.003410</td>\n",
              "      <td>-0.012250</td>\n",
              "      <td>0.009181</td>\n",
              "      <td>-0.001313</td>\n",
              "      <td>0.003585</td>\n",
              "      <td>-0.009140</td>\n",
              "      <td>0.020752</td>\n",
              "      <td>-0.028846</td>\n",
              "      <td>0.004855</td>\n",
              "      <td>-0.013095</td>\n",
              "      <td>0.017535</td>\n",
              "      <td>0.023643</td>\n",
              "      <td>0.008719</td>\n",
              "    </tr>\n",
              "    <tr>\n",
              "      <th>Lead_revenue</th>\n",
              "      <td>-0.002800</td>\n",
              "      <td>0.003722</td>\n",
              "      <td>0.009830</td>\n",
              "      <td>-0.002600</td>\n",
              "      <td>0.007298</td>\n",
              "      <td>1.000000</td>\n",
              "      <td>0.005064</td>\n",
              "      <td>0.000364</td>\n",
              "      <td>0.004886</td>\n",
              "      <td>-0.000212</td>\n",
              "      <td>-0.012584</td>\n",
              "      <td>-0.000525</td>\n",
              "      <td>-0.015423</td>\n",
              "      <td>-0.012833</td>\n",
              "      <td>0.007475</td>\n",
              "      <td>-0.000918</td>\n",
              "      <td>-0.008371</td>\n",
              "      <td>-0.003950</td>\n",
              "      <td>0.015269</td>\n",
              "    </tr>\n",
              "    <tr>\n",
              "      <th>Fund_category</th>\n",
              "      <td>-0.000126</td>\n",
              "      <td>-0.007233</td>\n",
              "      <td>-0.004072</td>\n",
              "      <td>-0.002588</td>\n",
              "      <td>0.003410</td>\n",
              "      <td>0.005064</td>\n",
              "      <td>1.000000</td>\n",
              "      <td>0.012947</td>\n",
              "      <td>-0.009086</td>\n",
              "      <td>-0.017092</td>\n",
              "      <td>-0.000432</td>\n",
              "      <td>0.002182</td>\n",
              "      <td>-0.009635</td>\n",
              "      <td>-0.000172</td>\n",
              "      <td>-0.002718</td>\n",
              "      <td>0.006525</td>\n",
              "      <td>0.003346</td>\n",
              "      <td>-0.004508</td>\n",
              "      <td>-0.050673</td>\n",
              "    </tr>\n",
              "    <tr>\n",
              "      <th>Geography</th>\n",
              "      <td>-0.009182</td>\n",
              "      <td>0.007866</td>\n",
              "      <td>0.031862</td>\n",
              "      <td>0.002154</td>\n",
              "      <td>-0.012250</td>\n",
              "      <td>0.000364</td>\n",
              "      <td>0.012947</td>\n",
              "      <td>1.000000</td>\n",
              "      <td>0.056926</td>\n",
              "      <td>-0.742393</td>\n",
              "      <td>0.012263</td>\n",
              "      <td>-0.011110</td>\n",
              "      <td>0.010465</td>\n",
              "      <td>-0.006046</td>\n",
              "      <td>0.008578</td>\n",
              "      <td>0.006449</td>\n",
              "      <td>-0.022392</td>\n",
              "      <td>0.019426</td>\n",
              "      <td>0.149783</td>\n",
              "    </tr>\n",
              "    <tr>\n",
              "      <th>Location</th>\n",
              "      <td>0.008167</td>\n",
              "      <td>-0.011073</td>\n",
              "      <td>-0.015452</td>\n",
              "      <td>-0.001221</td>\n",
              "      <td>0.009181</td>\n",
              "      <td>0.004886</td>\n",
              "      <td>-0.009086</td>\n",
              "      <td>0.056926</td>\n",
              "      <td>1.000000</td>\n",
              "      <td>-0.060597</td>\n",
              "      <td>-0.000105</td>\n",
              "      <td>0.001127</td>\n",
              "      <td>0.015067</td>\n",
              "      <td>-0.017001</td>\n",
              "      <td>-0.001714</td>\n",
              "      <td>-0.014021</td>\n",
              "      <td>0.009034</td>\n",
              "      <td>0.002881</td>\n",
              "      <td>0.009788</td>\n",
              "    </tr>\n",
              "    <tr>\n",
              "      <th>POC_name</th>\n",
              "      <td>0.003525</td>\n",
              "      <td>-0.010022</td>\n",
              "      <td>-0.031900</td>\n",
              "      <td>-0.009713</td>\n",
              "      <td>-0.001313</td>\n",
              "      <td>-0.000212</td>\n",
              "      <td>-0.017092</td>\n",
              "      <td>-0.742393</td>\n",
              "      <td>-0.060597</td>\n",
              "      <td>1.000000</td>\n",
              "      <td>-0.005471</td>\n",
              "      <td>0.005238</td>\n",
              "      <td>0.003818</td>\n",
              "      <td>0.002020</td>\n",
              "      <td>-0.017504</td>\n",
              "      <td>0.009800</td>\n",
              "      <td>0.020709</td>\n",
              "      <td>-0.009343</td>\n",
              "      <td>-0.150295</td>\n",
              "    </tr>\n",
              "    <tr>\n",
              "      <th>Designation</th>\n",
              "      <td>0.005478</td>\n",
              "      <td>0.009761</td>\n",
              "      <td>0.009528</td>\n",
              "      <td>0.010071</td>\n",
              "      <td>0.003585</td>\n",
              "      <td>-0.012584</td>\n",
              "      <td>-0.000432</td>\n",
              "      <td>0.012263</td>\n",
              "      <td>-0.000105</td>\n",
              "      <td>-0.005471</td>\n",
              "      <td>1.000000</td>\n",
              "      <td>0.012094</td>\n",
              "      <td>0.007115</td>\n",
              "      <td>0.022790</td>\n",
              "      <td>-0.005083</td>\n",
              "      <td>-0.010474</td>\n",
              "      <td>-0.000779</td>\n",
              "      <td>-0.000726</td>\n",
              "      <td>-0.004426</td>\n",
              "    </tr>\n",
              "    <tr>\n",
              "      <th>Hiring_candidate_role</th>\n",
              "      <td>-0.008516</td>\n",
              "      <td>-0.009187</td>\n",
              "      <td>-0.014662</td>\n",
              "      <td>-0.010313</td>\n",
              "      <td>-0.009140</td>\n",
              "      <td>-0.000525</td>\n",
              "      <td>0.002182</td>\n",
              "      <td>-0.011110</td>\n",
              "      <td>0.001127</td>\n",
              "      <td>0.005238</td>\n",
              "      <td>0.012094</td>\n",
              "      <td>1.000000</td>\n",
              "      <td>0.015588</td>\n",
              "      <td>-0.005895</td>\n",
              "      <td>0.006274</td>\n",
              "      <td>-0.014095</td>\n",
              "      <td>-0.007929</td>\n",
              "      <td>0.009497</td>\n",
              "      <td>-0.003526</td>\n",
              "    </tr>\n",
              "    <tr>\n",
              "      <th>Lead_source</th>\n",
              "      <td>-0.013843</td>\n",
              "      <td>-0.025872</td>\n",
              "      <td>-0.024476</td>\n",
              "      <td>0.007113</td>\n",
              "      <td>0.020752</td>\n",
              "      <td>-0.015423</td>\n",
              "      <td>-0.009635</td>\n",
              "      <td>0.010465</td>\n",
              "      <td>0.015067</td>\n",
              "      <td>0.003818</td>\n",
              "      <td>0.007115</td>\n",
              "      <td>0.015588</td>\n",
              "      <td>1.000000</td>\n",
              "      <td>-0.009614</td>\n",
              "      <td>-0.004254</td>\n",
              "      <td>0.020707</td>\n",
              "      <td>-0.014133</td>\n",
              "      <td>0.015634</td>\n",
              "      <td>0.052177</td>\n",
              "    </tr>\n",
              "    <tr>\n",
              "      <th>Level_of_meeting</th>\n",
              "      <td>0.010619</td>\n",
              "      <td>-0.003840</td>\n",
              "      <td>0.060361</td>\n",
              "      <td>-0.007067</td>\n",
              "      <td>-0.028846</td>\n",
              "      <td>-0.012833</td>\n",
              "      <td>-0.000172</td>\n",
              "      <td>-0.006046</td>\n",
              "      <td>-0.017001</td>\n",
              "      <td>0.002020</td>\n",
              "      <td>0.022790</td>\n",
              "      <td>-0.005895</td>\n",
              "      <td>-0.009614</td>\n",
              "      <td>1.000000</td>\n",
              "      <td>0.002534</td>\n",
              "      <td>0.000611</td>\n",
              "      <td>0.012089</td>\n",
              "      <td>0.018111</td>\n",
              "      <td>0.095374</td>\n",
              "    </tr>\n",
              "    <tr>\n",
              "      <th>Last_lead_update</th>\n",
              "      <td>0.001044</td>\n",
              "      <td>0.005510</td>\n",
              "      <td>0.008940</td>\n",
              "      <td>0.020926</td>\n",
              "      <td>0.004855</td>\n",
              "      <td>0.007475</td>\n",
              "      <td>-0.002718</td>\n",
              "      <td>0.008578</td>\n",
              "      <td>-0.001714</td>\n",
              "      <td>-0.017504</td>\n",
              "      <td>-0.005083</td>\n",
              "      <td>0.006274</td>\n",
              "      <td>-0.004254</td>\n",
              "      <td>0.002534</td>\n",
              "      <td>1.000000</td>\n",
              "      <td>-0.007622</td>\n",
              "      <td>-0.015376</td>\n",
              "      <td>0.010817</td>\n",
              "      <td>-0.000612</td>\n",
              "    </tr>\n",
              "    <tr>\n",
              "      <th>Internal_POC</th>\n",
              "      <td>0.017309</td>\n",
              "      <td>-0.019563</td>\n",
              "      <td>-0.015850</td>\n",
              "      <td>0.005477</td>\n",
              "      <td>-0.013095</td>\n",
              "      <td>-0.000918</td>\n",
              "      <td>0.006525</td>\n",
              "      <td>0.006449</td>\n",
              "      <td>-0.014021</td>\n",
              "      <td>0.009800</td>\n",
              "      <td>-0.010474</td>\n",
              "      <td>-0.014095</td>\n",
              "      <td>0.020707</td>\n",
              "      <td>0.000611</td>\n",
              "      <td>-0.007622</td>\n",
              "      <td>1.000000</td>\n",
              "      <td>-0.000126</td>\n",
              "      <td>-0.019811</td>\n",
              "      <td>0.010641</td>\n",
              "    </tr>\n",
              "    <tr>\n",
              "      <th>Resource</th>\n",
              "      <td>-0.018185</td>\n",
              "      <td>0.029391</td>\n",
              "      <td>0.021979</td>\n",
              "      <td>-0.004466</td>\n",
              "      <td>0.017535</td>\n",
              "      <td>-0.008371</td>\n",
              "      <td>0.003346</td>\n",
              "      <td>-0.022392</td>\n",
              "      <td>0.009034</td>\n",
              "      <td>0.020709</td>\n",
              "      <td>-0.000779</td>\n",
              "      <td>-0.007929</td>\n",
              "      <td>-0.014133</td>\n",
              "      <td>0.012089</td>\n",
              "      <td>-0.015376</td>\n",
              "      <td>-0.000126</td>\n",
              "      <td>1.000000</td>\n",
              "      <td>-0.016309</td>\n",
              "      <td>0.005276</td>\n",
              "    </tr>\n",
              "    <tr>\n",
              "      <th>Internal_rating</th>\n",
              "      <td>0.003557</td>\n",
              "      <td>0.001940</td>\n",
              "      <td>0.039648</td>\n",
              "      <td>-0.001871</td>\n",
              "      <td>0.023643</td>\n",
              "      <td>-0.003950</td>\n",
              "      <td>-0.004508</td>\n",
              "      <td>0.019426</td>\n",
              "      <td>0.002881</td>\n",
              "      <td>-0.009343</td>\n",
              "      <td>-0.000726</td>\n",
              "      <td>0.009497</td>\n",
              "      <td>0.015634</td>\n",
              "      <td>0.018111</td>\n",
              "      <td>0.010817</td>\n",
              "      <td>-0.019811</td>\n",
              "      <td>-0.016309</td>\n",
              "      <td>1.000000</td>\n",
              "      <td>0.073845</td>\n",
              "    </tr>\n",
              "    <tr>\n",
              "      <th>Success_probability</th>\n",
              "      <td>0.002932</td>\n",
              "      <td>0.019654</td>\n",
              "      <td>0.035367</td>\n",
              "      <td>-0.004220</td>\n",
              "      <td>0.008719</td>\n",
              "      <td>0.015269</td>\n",
              "      <td>-0.050673</td>\n",
              "      <td>0.149783</td>\n",
              "      <td>0.009788</td>\n",
              "      <td>-0.150295</td>\n",
              "      <td>-0.004426</td>\n",
              "      <td>-0.003526</td>\n",
              "      <td>0.052177</td>\n",
              "      <td>0.095374</td>\n",
              "      <td>-0.000612</td>\n",
              "      <td>0.010641</td>\n",
              "      <td>0.005276</td>\n",
              "      <td>0.073845</td>\n",
              "      <td>1.000000</td>\n",
              "    </tr>\n",
              "  </tbody>\n",
              "</table>\n",
              "</div>"
            ],
            "text/plain": [
              "                       Industry  ...  Success_probability\n",
              "Industry               1.000000  ...             0.002932\n",
              "Deal_value             0.009087  ...             0.019654\n",
              "Weighted_amount        0.011828  ...             0.035367\n",
              "Date_of_creation       0.009134  ...            -0.004220\n",
              "Pitch                  0.007310  ...             0.008719\n",
              "Lead_revenue          -0.002800  ...             0.015269\n",
              "Fund_category         -0.000126  ...            -0.050673\n",
              "Geography             -0.009182  ...             0.149783\n",
              "Location               0.008167  ...             0.009788\n",
              "POC_name               0.003525  ...            -0.150295\n",
              "Designation            0.005478  ...            -0.004426\n",
              "Hiring_candidate_role -0.008516  ...            -0.003526\n",
              "Lead_source           -0.013843  ...             0.052177\n",
              "Level_of_meeting       0.010619  ...             0.095374\n",
              "Last_lead_update       0.001044  ...            -0.000612\n",
              "Internal_POC           0.017309  ...             0.010641\n",
              "Resource              -0.018185  ...             0.005276\n",
              "Internal_rating        0.003557  ...             0.073845\n",
              "Success_probability    0.002932  ...             1.000000\n",
              "\n",
              "[19 rows x 19 columns]"
            ]
          },
          "metadata": {
            "tags": []
          },
          "execution_count": 218
        }
      ]
    },
    {
      "cell_type": "code",
      "metadata": {
        "id": "La56iPHzF1FY"
      },
      "source": [
        "# ttrying to figure out any relevent info fromthe above table\n",
        "# there is a 94% corr between deal value and weigted amount \n",
        "# there is +15% corr btwn geography and success rate \n",
        "# theer eis a -15% corr between success rate and POC_name "
      ],
      "execution_count": 219,
      "outputs": []
    },
    {
      "cell_type": "code",
      "metadata": {
        "colab": {
          "base_uri": "https://localhost:8080/",
          "height": 100
        },
        "id": "IceaV8Wqd0EL",
        "outputId": "37f714f9-0567-4bb3-975b-aeb8ea46efe9"
      },
      "source": [
        "train_csv.head(1)"
      ],
      "execution_count": 220,
      "outputs": [
        {
          "output_type": "execute_result",
          "data": {
            "text/html": [
              "<div>\n",
              "<style scoped>\n",
              "    .dataframe tbody tr th:only-of-type {\n",
              "        vertical-align: middle;\n",
              "    }\n",
              "\n",
              "    .dataframe tbody tr th {\n",
              "        vertical-align: top;\n",
              "    }\n",
              "\n",
              "    .dataframe thead th {\n",
              "        text-align: right;\n",
              "    }\n",
              "</style>\n",
              "<table border=\"1\" class=\"dataframe\">\n",
              "  <thead>\n",
              "    <tr style=\"text-align: right;\">\n",
              "      <th></th>\n",
              "      <th>Industry</th>\n",
              "      <th>Deal_value</th>\n",
              "      <th>Weighted_amount</th>\n",
              "      <th>Date_of_creation</th>\n",
              "      <th>Pitch</th>\n",
              "      <th>Lead_revenue</th>\n",
              "      <th>Fund_category</th>\n",
              "      <th>Geography</th>\n",
              "      <th>Location</th>\n",
              "      <th>POC_name</th>\n",
              "      <th>Designation</th>\n",
              "      <th>Hiring_candidate_role</th>\n",
              "      <th>Lead_source</th>\n",
              "      <th>Level_of_meeting</th>\n",
              "      <th>Last_lead_update</th>\n",
              "      <th>Internal_POC</th>\n",
              "      <th>Resource</th>\n",
              "      <th>Internal_rating</th>\n",
              "      <th>Success_probability</th>\n",
              "    </tr>\n",
              "  </thead>\n",
              "  <tbody>\n",
              "    <tr>\n",
              "      <th>0</th>\n",
              "      <td>119</td>\n",
              "      <td>320506.0</td>\n",
              "      <td>2067263.7</td>\n",
              "      <td>453</td>\n",
              "      <td>1</td>\n",
              "      <td>1</td>\n",
              "      <td>1</td>\n",
              "      <td>1</td>\n",
              "      <td>292</td>\n",
              "      <td>568</td>\n",
              "      <td>7</td>\n",
              "      <td>126</td>\n",
              "      <td>3</td>\n",
              "      <td>2</td>\n",
              "      <td>6</td>\n",
              "      <td>12</td>\n",
              "      <td>2</td>\n",
              "      <td>3</td>\n",
              "      <td>73.6</td>\n",
              "    </tr>\n",
              "  </tbody>\n",
              "</table>\n",
              "</div>"
            ],
            "text/plain": [
              "   Industry  Deal_value  ...  Internal_rating  Success_probability\n",
              "0       119    320506.0  ...                3                 73.6\n",
              "\n",
              "[1 rows x 19 columns]"
            ]
          },
          "metadata": {
            "tags": []
          },
          "execution_count": 220
        }
      ]
    },
    {
      "cell_type": "code",
      "metadata": {
        "id": "7tvFVpycmkHY"
      },
      "source": [
        ""
      ],
      "execution_count": 220,
      "outputs": []
    },
    {
      "cell_type": "code",
      "metadata": {
        "colab": {
          "base_uri": "https://localhost:8080/",
          "height": 279
        },
        "id": "iZiPCKO4dbhn",
        "outputId": "6d48e51f-1609-4aaf-88d7-2d0060aa6986"
      },
      "source": [
        "ax = sns.countplot(x = \"Geography\",hue = \"Internal_rating\",data = train_csv) "
      ],
      "execution_count": 221,
      "outputs": [
        {
          "output_type": "display_data",
          "data": {
            "image/png": "[encoded data removed]",
            "text/plain": [
              "<Figure size 432x288 with 1 Axes>"
            ]
          },
          "metadata": {
            "tags": [],
            "needs_background": "light"
          }
        }
      ]
    },
    {
      "cell_type": "code",
      "metadata": {
        "colab": {
          "base_uri": "https://localhost:8080/"
        },
        "id": "bQi5jTHvjahJ",
        "outputId": "f83ae0ce-adf3-488d-9c11-6c940a13f05e"
      },
      "source": [
        "train_csv[\"Success_probability\"].value_counts()"
      ],
      "execution_count": 222,
      "outputs": [
        {
          "output_type": "execute_result",
          "data": {
            "text/plain": [
              " 107.34    515\n",
              " 26.35     447\n",
              " 65.60      74\n",
              " 62.40      73\n",
              "-5.00       70\n",
              "          ... \n",
              " 53.70       1\n",
              " 56.50       1\n",
              " 51.90       1\n",
              " 78.80       1\n",
              " 52.20       1\n",
              "Name: Success_probability, Length: 248, dtype: int64"
            ]
          },
          "metadata": {
            "tags": []
          },
          "execution_count": 222
        }
      ]
    },
    {
      "cell_type": "code",
      "metadata": {
        "colab": {
          "base_uri": "https://localhost:8080/",
          "height": 386
        },
        "id": "OEfVm_ubf32-",
        "outputId": "2542376f-b6e0-428d-b927-64c0e4e859e4"
      },
      "source": [
        "sns.displot(data = train_csv, x= 'Success_probability') "
      ],
      "execution_count": 223,
      "outputs": [
        {
          "output_type": "execute_result",
          "data": {
            "text/plain": [
              "<seaborn.axisgrid.FacetGrid at 0x7f11e1c3fe50>"
            ]
          },
          "metadata": {
            "tags": []
          },
          "execution_count": 223
        },
        {
          "output_type": "display_data",
          "data": {
            "image/png": "[encoded data removed]",
            "text/plain": [
              "<Figure size 360x360 with 1 Axes>"
            ]
          },
          "metadata": {
            "tags": [],
            "needs_background": "light"
          }
        }
      ]
    },
    {
      "cell_type": "code",
      "metadata": {
        "colab": {
          "base_uri": "https://localhost:8080/",
          "height": 386
        },
        "id": "-v4uN-9vjijE",
        "outputId": "d46dba4a-2a33-42d0-b34f-87499c877efa"
      },
      "source": [
        "sns.displot(data=train_csv, x=\"Success_probability\", kind=\"kde\")"
      ],
      "execution_count": 224,
      "outputs": [
        {
          "output_type": "execute_result",
          "data": {
            "text/plain": [
              "<seaborn.axisgrid.FacetGrid at 0x7f11e1a72050>"
            ]
          },
          "metadata": {
            "tags": []
          },
          "execution_count": 224
        },
        {
          "output_type": "display_data",
          "data": {
            "image/png": "[encoded data removed]",
            "text/plain": [
              "<Figure size 360x360 with 1 Axes>"
            ]
          },
          "metadata": {
            "tags": [],
            "needs_background": "light"
          }
        }
      ]
    },
    {
      "cell_type": "code",
      "metadata": {
        "colab": {
          "base_uri": "https://localhost:8080/",
          "height": 297
        },
        "id": "3dj4piBslZcT",
        "outputId": "7ae07a77-10a0-4d3d-f869-d91541e06733"
      },
      "source": [
        "sns.scatterplot(x =\"Weighted_amount\",y =\"Deal_value\",hue = \"Level_of_meeting\",data = train_csv)"
      ],
      "execution_count": 225,
      "outputs": [
        {
          "output_type": "execute_result",
          "data": {
            "text/plain": [
              "<matplotlib.axes._subplots.AxesSubplot at 0x7f11e1a5c390>"
            ]
          },
          "metadata": {
            "tags": []
          },
          "execution_count": 225
        },
        {
          "output_type": "display_data",
          "data": {
            "image/png": "[encoded data removed]",
            "text/plain": [
              "<Figure size 432x288 with 1 Axes>"
            ]
          },
          "metadata": {
            "tags": [],
            "needs_background": "light"
          }
        }
      ]
    },
    {
      "cell_type": "code",
      "metadata": {
        "colab": {
          "base_uri": "https://localhost:8080/",
          "height": 297
        },
        "id": "5gHSrAIsooVl",
        "outputId": "55c12bd1-5f7f-427c-b382-589c98dface1"
      },
      "source": [
        "sns.scatterplot(x =\"Weighted_amount\",y =\"Deal_value\",hue = \"Pitch\",data = train_csv)"
      ],
      "execution_count": 226,
      "outputs": [
        {
          "output_type": "execute_result",
          "data": {
            "text/plain": [
              "<matplotlib.axes._subplots.AxesSubplot at 0x7f11e19c6410>"
            ]
          },
          "metadata": {
            "tags": []
          },
          "execution_count": 226
        },
        {
          "output_type": "display_data",
          "data": {
            "image/png": "[encoded data removed]",
            "text/plain": [
              "<Figure size 432x288 with 1 Axes>"
            ]
          },
          "metadata": {
            "tags": [],
            "needs_background": "light"
          }
        }
      ]
    },
    {
      "cell_type": "code",
      "metadata": {
        "colab": {
          "base_uri": "https://localhost:8080/"
        },
        "id": "h3mIqfQnqITU",
        "outputId": "fdbf7835-138b-4a0f-d1bb-52a01b405b49"
      },
      "source": [
        "train_csv.nunique()"
      ],
      "execution_count": 227,
      "outputs": [
        {
          "output_type": "execute_result",
          "data": {
            "text/plain": [
              "Industry                  171\n",
              "Deal_value               6908\n",
              "Weighted_amount          6481\n",
              "Date_of_creation          777\n",
              "Pitch                       2\n",
              "Lead_revenue                3\n",
              "Fund_category               4\n",
              "Geography                   2\n",
              "Location                  597\n",
              "POC_name                 5261\n",
              "Designation                10\n",
              "Hiring_candidate_role     639\n",
              "Lead_source                 4\n",
              "Level_of_meeting            3\n",
              "Last_lead_update           10\n",
              "Internal_POC               60\n",
              "Resource                    6\n",
              "Internal_rating             5\n",
              "Success_probability       248\n",
              "dtype: int64"
            ]
          },
          "metadata": {
            "tags": []
          },
          "execution_count": 227
        }
      ]
    },
    {
      "cell_type": "code",
      "metadata": {
        "colab": {
          "base_uri": "https://localhost:8080/",
          "height": 297
        },
        "id": "bg6BWdBDrNBf",
        "outputId": "0f51be25-bc85-4374-a562-dc69cefed42a"
      },
      "source": [
        "sns.scatterplot(x =\"Weighted_amount\",y =\"Deal_value\",hue = \"Fund_category\",data = train_csv)"
      ],
      "execution_count": 228,
      "outputs": [
        {
          "output_type": "execute_result",
          "data": {
            "text/plain": [
              "<matplotlib.axes._subplots.AxesSubplot at 0x7f11e194c390>"
            ]
          },
          "metadata": {
            "tags": []
          },
          "execution_count": 228
        },
        {
          "output_type": "display_data",
          "data": {
            "image/png": "[encoded data removed]",
            "text/plain": [
              "<Figure size 432x288 with 1 Axes>"
            ]
          },
          "metadata": {
            "tags": [],
            "needs_background": "light"
          }
        }
      ]
    },
    {
      "cell_type": "code",
      "metadata": {
        "id": "wzwL1lIkrk3o"
      },
      "source": [
        "def Outlier1(data):\n",
        "    threshold=3\n",
        "    for i in range(len(data.columns)):\n",
        "        X=data.iloc[:,i]\n",
        "        outlier=[]\n",
        "        \n",
        "        mean_data=np.mean(X)\n",
        "        print(mean_data)\n",
        "        std_data=np.std(X)\n",
        "        print(std_data)\n",
        "        for j in X:\n",
        "            z_score=(j-mean_data)/std_data\n",
        "            if np.abs(z_score)>threshold:\n",
        "                outlier.append(j)\n",
        "        for j in outlier:\n",
        "            data=data[data[data.columns[i]]!=j]\n",
        "    return data\n",
        "      "
      ],
      "execution_count": 229,
      "outputs": []
    },
    {
      "cell_type": "code",
      "metadata": {
        "colab": {
          "base_uri": "https://localhost:8080/"
        },
        "id": "HMjER7Z7ulYR",
        "outputId": "d317cbd9-9935-44f7-9d82-0f89db6db71e"
      },
      "source": [
        "train_csv=Outlier1(train_csv)\n"
      ],
      "execution_count": 230,
      "outputs": [
        {
          "output_type": "stream",
          "text": [
            "62.62580276865991\n",
            "42.82585747016308\n",
            "249656.0254456586\n",
            "144220.715890812\n",
            "1569883.6682813996\n",
            "886313.9813131888\n",
            "387.37491080348224\n",
            "224.67418780938445\n",
            "0.49992864278578564\n",
            "0.499999994908117\n",
            "1.0037105751391466\n",
            "0.8214256200308517\n",
            "1.4877979163693449\n",
            "1.1086737649249334\n",
            "0.5755672898530041\n",
            "0.49425659803818767\n",
            "295.19209362066505\n",
            "174.9183647965064\n",
            "3025.3493649207935\n",
            "1528.6805251457401\n",
            "4.459825888397317\n",
            "2.8848912533299935\n",
            "316.9794491223063\n",
            "185.21060532054233\n",
            "1.4839446268017698\n",
            "1.1105539454353641\n",
            "0.9871557014414157\n",
            "0.8213335751115447\n",
            "4.2904238618524335\n",
            "2.6835365222372562\n",
            "29.447552447552447\n",
            "17.14923489223254\n",
            "2.499215070643642\n",
            "1.6806450168729745\n",
            "3.0095618667047237\n",
            "1.4185643185905912\n",
            "64.74513343799077\n",
            "17.930355722930415\n"
          ],
          "name": "stdout"
        }
      ]
    },
    {
      "cell_type": "code",
      "metadata": {
        "colab": {
          "base_uri": "https://localhost:8080/"
        },
        "id": "Gt4c-GX5utWL",
        "outputId": "d2679f91-3532-4ca1-c5be-51cbc56b374e"
      },
      "source": [
        "train_csv.shape"
      ],
      "execution_count": 231,
      "outputs": [
        {
          "output_type": "execute_result",
          "data": {
            "text/plain": [
              "(6886, 19)"
            ]
          },
          "metadata": {
            "tags": []
          },
          "execution_count": 231
        }
      ]
    },
    {
      "cell_type": "code",
      "metadata": {
        "colab": {
          "base_uri": "https://localhost:8080/"
        },
        "id": "xbd_oANjydov",
        "outputId": "4eb8480b-9be7-4cca-f70c-b88b4da99718"
      },
      "source": [
        "test_csv.shape"
      ],
      "execution_count": 232,
      "outputs": [
        {
          "output_type": "execute_result",
          "data": {
            "text/plain": [
              "(2093, 18)"
            ]
          },
          "metadata": {
            "tags": []
          },
          "execution_count": 232
        }
      ]
    },
    {
      "cell_type": "code",
      "metadata": {
        "colab": {
          "base_uri": "https://localhost:8080/",
          "height": 224
        },
        "id": "rUUdvX6qvqaV",
        "outputId": "aca7b958-6b62-40ce-c0b7-e4f11a8b5870"
      },
      "source": [
        "train_csv.head()"
      ],
      "execution_count": 233,
      "outputs": [
        {
          "output_type": "execute_result",
          "data": {
            "text/html": [
              "<div>\n",
              "<style scoped>\n",
              "    .dataframe tbody tr th:only-of-type {\n",
              "        vertical-align: middle;\n",
              "    }\n",
              "\n",
              "    .dataframe tbody tr th {\n",
              "        vertical-align: top;\n",
              "    }\n",
              "\n",
              "    .dataframe thead th {\n",
              "        text-align: right;\n",
              "    }\n",
              "</style>\n",
              "<table border=\"1\" class=\"dataframe\">\n",
              "  <thead>\n",
              "    <tr style=\"text-align: right;\">\n",
              "      <th></th>\n",
              "      <th>Industry</th>\n",
              "      <th>Deal_value</th>\n",
              "      <th>Weighted_amount</th>\n",
              "      <th>Date_of_creation</th>\n",
              "      <th>Pitch</th>\n",
              "      <th>Lead_revenue</th>\n",
              "      <th>Fund_category</th>\n",
              "      <th>Geography</th>\n",
              "      <th>Location</th>\n",
              "      <th>POC_name</th>\n",
              "      <th>Designation</th>\n",
              "      <th>Hiring_candidate_role</th>\n",
              "      <th>Lead_source</th>\n",
              "      <th>Level_of_meeting</th>\n",
              "      <th>Last_lead_update</th>\n",
              "      <th>Internal_POC</th>\n",
              "      <th>Resource</th>\n",
              "      <th>Internal_rating</th>\n",
              "      <th>Success_probability</th>\n",
              "    </tr>\n",
              "  </thead>\n",
              "  <tbody>\n",
              "    <tr>\n",
              "      <th>0</th>\n",
              "      <td>119</td>\n",
              "      <td>320506.0</td>\n",
              "      <td>2.067264e+06</td>\n",
              "      <td>453</td>\n",
              "      <td>1</td>\n",
              "      <td>1</td>\n",
              "      <td>1</td>\n",
              "      <td>1</td>\n",
              "      <td>292</td>\n",
              "      <td>568</td>\n",
              "      <td>7</td>\n",
              "      <td>126</td>\n",
              "      <td>3</td>\n",
              "      <td>2</td>\n",
              "      <td>6</td>\n",
              "      <td>12</td>\n",
              "      <td>2</td>\n",
              "      <td>3</td>\n",
              "      <td>73.6</td>\n",
              "    </tr>\n",
              "    <tr>\n",
              "      <th>1</th>\n",
              "      <td>31</td>\n",
              "      <td>39488.0</td>\n",
              "      <td>2.408768e+05</td>\n",
              "      <td>190</td>\n",
              "      <td>1</td>\n",
              "      <td>2</td>\n",
              "      <td>3</td>\n",
              "      <td>0</td>\n",
              "      <td>457</td>\n",
              "      <td>4528</td>\n",
              "      <td>4</td>\n",
              "      <td>501</td>\n",
              "      <td>2</td>\n",
              "      <td>0</td>\n",
              "      <td>2</td>\n",
              "      <td>5</td>\n",
              "      <td>2</td>\n",
              "      <td>5</td>\n",
              "      <td>58.9</td>\n",
              "    </tr>\n",
              "    <tr>\n",
              "      <th>2</th>\n",
              "      <td>56</td>\n",
              "      <td>359392.0</td>\n",
              "      <td>2.407926e+06</td>\n",
              "      <td>207</td>\n",
              "      <td>0</td>\n",
              "      <td>2</td>\n",
              "      <td>3</td>\n",
              "      <td>1</td>\n",
              "      <td>15</td>\n",
              "      <td>272</td>\n",
              "      <td>8</td>\n",
              "      <td>286</td>\n",
              "      <td>1</td>\n",
              "      <td>0</td>\n",
              "      <td>3</td>\n",
              "      <td>18</td>\n",
              "      <td>2</td>\n",
              "      <td>4</td>\n",
              "      <td>68.8</td>\n",
              "    </tr>\n",
              "    <tr>\n",
              "      <th>3</th>\n",
              "      <td>114</td>\n",
              "      <td>76774.0</td>\n",
              "      <td>4.683214e+05</td>\n",
              "      <td>760</td>\n",
              "      <td>1</td>\n",
              "      <td>2</td>\n",
              "      <td>2</td>\n",
              "      <td>1</td>\n",
              "      <td>372</td>\n",
              "      <td>1170</td>\n",
              "      <td>2</td>\n",
              "      <td>611</td>\n",
              "      <td>0</td>\n",
              "      <td>1</td>\n",
              "      <td>2</td>\n",
              "      <td>5</td>\n",
              "      <td>4</td>\n",
              "      <td>1</td>\n",
              "      <td>64.5</td>\n",
              "    </tr>\n",
              "    <tr>\n",
              "      <th>4</th>\n",
              "      <td>46</td>\n",
              "      <td>483896.0</td>\n",
              "      <td>1.569884e+06</td>\n",
              "      <td>141</td>\n",
              "      <td>1</td>\n",
              "      <td>1</td>\n",
              "      <td>2</td>\n",
              "      <td>0</td>\n",
              "      <td>505</td>\n",
              "      <td>3962</td>\n",
              "      <td>7</td>\n",
              "      <td>369</td>\n",
              "      <td>3</td>\n",
              "      <td>1</td>\n",
              "      <td>8</td>\n",
              "      <td>53</td>\n",
              "      <td>2</td>\n",
              "      <td>4</td>\n",
              "      <td>62.4</td>\n",
              "    </tr>\n",
              "  </tbody>\n",
              "</table>\n",
              "</div>"
            ],
            "text/plain": [
              "   Industry  Deal_value  ...  Internal_rating  Success_probability\n",
              "0       119    320506.0  ...                3                 73.6\n",
              "1        31     39488.0  ...                5                 58.9\n",
              "2        56    359392.0  ...                4                 68.8\n",
              "3       114     76774.0  ...                1                 64.5\n",
              "4        46    483896.0  ...                4                 62.4\n",
              "\n",
              "[5 rows x 19 columns]"
            ]
          },
          "metadata": {
            "tags": []
          },
          "execution_count": 233
        }
      ]
    },
    {
      "cell_type": "code",
      "metadata": {
        "colab": {
          "base_uri": "https://localhost:8080/"
        },
        "id": "MErSYYQtsnfO",
        "outputId": "ca688f15-18b7-46c1-81b5-a4dd429628d2"
      },
      "source": [
        "train_csv.isna().sum()"
      ],
      "execution_count": 234,
      "outputs": [
        {
          "output_type": "execute_result",
          "data": {
            "text/plain": [
              "Industry                 0\n",
              "Deal_value               0\n",
              "Weighted_amount          0\n",
              "Date_of_creation         0\n",
              "Pitch                    0\n",
              "Lead_revenue             0\n",
              "Fund_category            0\n",
              "Geography                0\n",
              "Location                 0\n",
              "POC_name                 0\n",
              "Designation              0\n",
              "Hiring_candidate_role    0\n",
              "Lead_source              0\n",
              "Level_of_meeting         0\n",
              "Last_lead_update         0\n",
              "Internal_POC             0\n",
              "Resource                 0\n",
              "Internal_rating          0\n",
              "Success_probability      0\n",
              "dtype: int64"
            ]
          },
          "metadata": {
            "tags": []
          },
          "execution_count": 234
        }
      ]
    },
    {
      "cell_type": "code",
      "metadata": {
        "id": "UoYp-Ncwujkx"
      },
      "source": [
        "y = train_csv[\"Success_probability\"] \n",
        "train_csv.drop(\"Success_probability\",axis = 1, inplace = True) "
      ],
      "execution_count": 235,
      "outputs": []
    },
    {
      "cell_type": "code",
      "metadata": {
        "id": "-grOjxr21766",
        "colab": {
          "base_uri": "https://localhost:8080/"
        },
        "outputId": "bb7edba1-b467-4953-b053-db984748542d"
      },
      "source": [
        "y"
      ],
      "execution_count": 236,
      "outputs": [
        {
          "output_type": "execute_result",
          "data": {
            "text/plain": [
              "0        73.60\n",
              "1        58.90\n",
              "2        68.80\n",
              "3        64.50\n",
              "4        62.40\n",
              "         ...  \n",
              "7001     57.40\n",
              "7002    107.34\n",
              "7003     26.35\n",
              "7004     70.60\n",
              "7006     68.70\n",
              "Name: Success_probability, Length: 6886, dtype: float64"
            ]
          },
          "metadata": {
            "tags": []
          },
          "execution_count": 236
        }
      ]
    },
    {
      "cell_type": "code",
      "metadata": {
        "colab": {
          "base_uri": "https://localhost:8080/",
          "height": 100
        },
        "id": "vLJfviVSpIiv",
        "outputId": "54546bb4-88e2-432b-e55e-2165461f58aa"
      },
      "source": [
        "train_csv.head(1)"
      ],
      "execution_count": 237,
      "outputs": [
        {
          "output_type": "execute_result",
          "data": {
            "text/html": [
              "<div>\n",
              "<style scoped>\n",
              "    .dataframe tbody tr th:only-of-type {\n",
              "        vertical-align: middle;\n",
              "    }\n",
              "\n",
              "    .dataframe tbody tr th {\n",
              "        vertical-align: top;\n",
              "    }\n",
              "\n",
              "    .dataframe thead th {\n",
              "        text-align: right;\n",
              "    }\n",
              "</style>\n",
              "<table border=\"1\" class=\"dataframe\">\n",
              "  <thead>\n",
              "    <tr style=\"text-align: right;\">\n",
              "      <th></th>\n",
              "      <th>Industry</th>\n",
              "      <th>Deal_value</th>\n",
              "      <th>Weighted_amount</th>\n",
              "      <th>Date_of_creation</th>\n",
              "      <th>Pitch</th>\n",
              "      <th>Lead_revenue</th>\n",
              "      <th>Fund_category</th>\n",
              "      <th>Geography</th>\n",
              "      <th>Location</th>\n",
              "      <th>POC_name</th>\n",
              "      <th>Designation</th>\n",
              "      <th>Hiring_candidate_role</th>\n",
              "      <th>Lead_source</th>\n",
              "      <th>Level_of_meeting</th>\n",
              "      <th>Last_lead_update</th>\n",
              "      <th>Internal_POC</th>\n",
              "      <th>Resource</th>\n",
              "      <th>Internal_rating</th>\n",
              "    </tr>\n",
              "  </thead>\n",
              "  <tbody>\n",
              "    <tr>\n",
              "      <th>0</th>\n",
              "      <td>119</td>\n",
              "      <td>320506.0</td>\n",
              "      <td>2067263.7</td>\n",
              "      <td>453</td>\n",
              "      <td>1</td>\n",
              "      <td>1</td>\n",
              "      <td>1</td>\n",
              "      <td>1</td>\n",
              "      <td>292</td>\n",
              "      <td>568</td>\n",
              "      <td>7</td>\n",
              "      <td>126</td>\n",
              "      <td>3</td>\n",
              "      <td>2</td>\n",
              "      <td>6</td>\n",
              "      <td>12</td>\n",
              "      <td>2</td>\n",
              "      <td>3</td>\n",
              "    </tr>\n",
              "  </tbody>\n",
              "</table>\n",
              "</div>"
            ],
            "text/plain": [
              "   Industry  Deal_value  ...  Resource  Internal_rating\n",
              "0       119    320506.0  ...         2                3\n",
              "\n",
              "[1 rows x 18 columns]"
            ]
          },
          "metadata": {
            "tags": []
          },
          "execution_count": 237
        }
      ]
    },
    {
      "cell_type": "code",
      "metadata": {
        "colab": {
          "base_uri": "https://localhost:8080/",
          "height": 100
        },
        "id": "gsZ5DnTepJ3k",
        "outputId": "28158170-0e22-4da6-86d8-a67bebd20207"
      },
      "source": [
        "test_csv.head(1)"
      ],
      "execution_count": 238,
      "outputs": [
        {
          "output_type": "execute_result",
          "data": {
            "text/html": [
              "<div>\n",
              "<style scoped>\n",
              "    .dataframe tbody tr th:only-of-type {\n",
              "        vertical-align: middle;\n",
              "    }\n",
              "\n",
              "    .dataframe tbody tr th {\n",
              "        vertical-align: top;\n",
              "    }\n",
              "\n",
              "    .dataframe thead th {\n",
              "        text-align: right;\n",
              "    }\n",
              "</style>\n",
              "<table border=\"1\" class=\"dataframe\">\n",
              "  <thead>\n",
              "    <tr style=\"text-align: right;\">\n",
              "      <th></th>\n",
              "      <th>Industry</th>\n",
              "      <th>Deal_value</th>\n",
              "      <th>Weighted_amount</th>\n",
              "      <th>Date_of_creation</th>\n",
              "      <th>Pitch</th>\n",
              "      <th>Lead_revenue</th>\n",
              "      <th>Fund_category</th>\n",
              "      <th>Geography</th>\n",
              "      <th>Location</th>\n",
              "      <th>POC_name</th>\n",
              "      <th>Designation</th>\n",
              "      <th>Hiring_candidate_role</th>\n",
              "      <th>Lead_source</th>\n",
              "      <th>Level_of_meeting</th>\n",
              "      <th>Last_lead_update</th>\n",
              "      <th>Internal_POC</th>\n",
              "      <th>Resource</th>\n",
              "      <th>Internal_rating</th>\n",
              "    </tr>\n",
              "  </thead>\n",
              "  <tbody>\n",
              "    <tr>\n",
              "      <th>0</th>\n",
              "      <td>55</td>\n",
              "      <td>200988.0</td>\n",
              "      <td>1.556917e+06</td>\n",
              "      <td>427</td>\n",
              "      <td>0</td>\n",
              "      <td>0</td>\n",
              "      <td>3</td>\n",
              "      <td>0</td>\n",
              "      <td>68</td>\n",
              "      <td>1666</td>\n",
              "      <td>4</td>\n",
              "      <td>151</td>\n",
              "      <td>1</td>\n",
              "      <td>0</td>\n",
              "      <td>9</td>\n",
              "      <td>38</td>\n",
              "      <td>2</td>\n",
              "      <td>-1.0</td>\n",
              "    </tr>\n",
              "  </tbody>\n",
              "</table>\n",
              "</div>"
            ],
            "text/plain": [
              "   Industry  Deal_value  ...  Resource  Internal_rating\n",
              "0        55    200988.0  ...         2             -1.0\n",
              "\n",
              "[1 rows x 18 columns]"
            ]
          },
          "metadata": {
            "tags": []
          },
          "execution_count": 238
        }
      ]
    },
    {
      "cell_type": "code",
      "metadata": {
        "colab": {
          "base_uri": "https://localhost:8080/"
        },
        "id": "ooAuAD3sbC3s",
        "outputId": "f964d58d-e9de-44af-fa3b-ba2b3dfb8f6e"
      },
      "source": [
        "y"
      ],
      "execution_count": 239,
      "outputs": [
        {
          "output_type": "execute_result",
          "data": {
            "text/plain": [
              "0        73.60\n",
              "1        58.90\n",
              "2        68.80\n",
              "3        64.50\n",
              "4        62.40\n",
              "         ...  \n",
              "7001     57.40\n",
              "7002    107.34\n",
              "7003     26.35\n",
              "7004     70.60\n",
              "7006     68.70\n",
              "Name: Success_probability, Length: 6886, dtype: float64"
            ]
          },
          "metadata": {
            "tags": []
          },
          "execution_count": 239
        }
      ]
    },
    {
      "cell_type": "code",
      "metadata": {
        "id": "oHBKL0XynGVs"
      },
      "source": [
        "x_train = train_csv.iloc[:,:]"
      ],
      "execution_count": 240,
      "outputs": []
    },
    {
      "cell_type": "code",
      "metadata": {
        "id": "zrRaCp2ea0AE"
      },
      "source": [
        "from sklearn.model_selection import train_test_split\n",
        "x_train, x_valid, y_train, y_valid = train_test_split(x_train, y, test_size=0.33, random_state=42)"
      ],
      "execution_count": 241,
      "outputs": []
    },
    {
      "cell_type": "code",
      "metadata": {
        "id": "HVqeixPsbv7e",
        "colab": {
          "base_uri": "https://localhost:8080/",
          "height": 439
        },
        "outputId": "d7c3a07e-44ce-4143-ec80-dceac2f0efad"
      },
      "source": [
        "x_train"
      ],
      "execution_count": 242,
      "outputs": [
        {
          "output_type": "execute_result",
          "data": {
            "text/html": [
              "<div>\n",
              "<style scoped>\n",
              "    .dataframe tbody tr th:only-of-type {\n",
              "        vertical-align: middle;\n",
              "    }\n",
              "\n",
              "    .dataframe tbody tr th {\n",
              "        vertical-align: top;\n",
              "    }\n",
              "\n",
              "    .dataframe thead th {\n",
              "        text-align: right;\n",
              "    }\n",
              "</style>\n",
              "<table border=\"1\" class=\"dataframe\">\n",
              "  <thead>\n",
              "    <tr style=\"text-align: right;\">\n",
              "      <th></th>\n",
              "      <th>Industry</th>\n",
              "      <th>Deal_value</th>\n",
              "      <th>Weighted_amount</th>\n",
              "      <th>Date_of_creation</th>\n",
              "      <th>Pitch</th>\n",
              "      <th>Lead_revenue</th>\n",
              "      <th>Fund_category</th>\n",
              "      <th>Geography</th>\n",
              "      <th>Location</th>\n",
              "      <th>POC_name</th>\n",
              "      <th>Designation</th>\n",
              "      <th>Hiring_candidate_role</th>\n",
              "      <th>Lead_source</th>\n",
              "      <th>Level_of_meeting</th>\n",
              "      <th>Last_lead_update</th>\n",
              "      <th>Internal_POC</th>\n",
              "      <th>Resource</th>\n",
              "      <th>Internal_rating</th>\n",
              "    </tr>\n",
              "  </thead>\n",
              "  <tbody>\n",
              "    <tr>\n",
              "      <th>6189</th>\n",
              "      <td>39</td>\n",
              "      <td>214742.0</td>\n",
              "      <td>1.309926e+06</td>\n",
              "      <td>700</td>\n",
              "      <td>0</td>\n",
              "      <td>2</td>\n",
              "      <td>2</td>\n",
              "      <td>1</td>\n",
              "      <td>168</td>\n",
              "      <td>1671</td>\n",
              "      <td>8</td>\n",
              "      <td>540</td>\n",
              "      <td>0</td>\n",
              "      <td>1</td>\n",
              "      <td>6</td>\n",
              "      <td>15</td>\n",
              "      <td>4</td>\n",
              "      <td>1</td>\n",
              "    </tr>\n",
              "    <tr>\n",
              "      <th>3698</th>\n",
              "      <td>17</td>\n",
              "      <td>368227.0</td>\n",
              "      <td>1.569884e+06</td>\n",
              "      <td>436</td>\n",
              "      <td>1</td>\n",
              "      <td>1</td>\n",
              "      <td>3</td>\n",
              "      <td>1</td>\n",
              "      <td>242</td>\n",
              "      <td>4166</td>\n",
              "      <td>8</td>\n",
              "      <td>25</td>\n",
              "      <td>1</td>\n",
              "      <td>0</td>\n",
              "      <td>0</td>\n",
              "      <td>48</td>\n",
              "      <td>1</td>\n",
              "      <td>4</td>\n",
              "    </tr>\n",
              "    <tr>\n",
              "      <th>5371</th>\n",
              "      <td>31</td>\n",
              "      <td>170335.0</td>\n",
              "      <td>1.115694e+06</td>\n",
              "      <td>312</td>\n",
              "      <td>0</td>\n",
              "      <td>2</td>\n",
              "      <td>1</td>\n",
              "      <td>0</td>\n",
              "      <td>113</td>\n",
              "      <td>5105</td>\n",
              "      <td>9</td>\n",
              "      <td>301</td>\n",
              "      <td>0</td>\n",
              "      <td>2</td>\n",
              "      <td>5</td>\n",
              "      <td>50</td>\n",
              "      <td>0</td>\n",
              "      <td>5</td>\n",
              "    </tr>\n",
              "    <tr>\n",
              "      <th>3120</th>\n",
              "      <td>122</td>\n",
              "      <td>256570.0</td>\n",
              "      <td>1.539420e+06</td>\n",
              "      <td>150</td>\n",
              "      <td>1</td>\n",
              "      <td>0</td>\n",
              "      <td>2</td>\n",
              "      <td>1</td>\n",
              "      <td>423</td>\n",
              "      <td>2895</td>\n",
              "      <td>0</td>\n",
              "      <td>165</td>\n",
              "      <td>0</td>\n",
              "      <td>1</td>\n",
              "      <td>3</td>\n",
              "      <td>38</td>\n",
              "      <td>3</td>\n",
              "      <td>1</td>\n",
              "    </tr>\n",
              "    <tr>\n",
              "      <th>2430</th>\n",
              "      <td>6</td>\n",
              "      <td>27280.0</td>\n",
              "      <td>1.636800e+05</td>\n",
              "      <td>172</td>\n",
              "      <td>0</td>\n",
              "      <td>0</td>\n",
              "      <td>3</td>\n",
              "      <td>0</td>\n",
              "      <td>278</td>\n",
              "      <td>3975</td>\n",
              "      <td>7</td>\n",
              "      <td>186</td>\n",
              "      <td>0</td>\n",
              "      <td>0</td>\n",
              "      <td>5</td>\n",
              "      <td>4</td>\n",
              "      <td>0</td>\n",
              "      <td>4</td>\n",
              "    </tr>\n",
              "    <tr>\n",
              "      <th>...</th>\n",
              "      <td>...</td>\n",
              "      <td>...</td>\n",
              "      <td>...</td>\n",
              "      <td>...</td>\n",
              "      <td>...</td>\n",
              "      <td>...</td>\n",
              "      <td>...</td>\n",
              "      <td>...</td>\n",
              "      <td>...</td>\n",
              "      <td>...</td>\n",
              "      <td>...</td>\n",
              "      <td>...</td>\n",
              "      <td>...</td>\n",
              "      <td>...</td>\n",
              "      <td>...</td>\n",
              "      <td>...</td>\n",
              "      <td>...</td>\n",
              "      <td>...</td>\n",
              "    </tr>\n",
              "    <tr>\n",
              "      <th>3837</th>\n",
              "      <td>92</td>\n",
              "      <td>271416.0</td>\n",
              "      <td>1.574213e+06</td>\n",
              "      <td>646</td>\n",
              "      <td>1</td>\n",
              "      <td>2</td>\n",
              "      <td>1</td>\n",
              "      <td>1</td>\n",
              "      <td>392</td>\n",
              "      <td>1874</td>\n",
              "      <td>6</td>\n",
              "      <td>628</td>\n",
              "      <td>2</td>\n",
              "      <td>0</td>\n",
              "      <td>0</td>\n",
              "      <td>41</td>\n",
              "      <td>1</td>\n",
              "      <td>3</td>\n",
              "    </tr>\n",
              "    <tr>\n",
              "      <th>5278</th>\n",
              "      <td>17</td>\n",
              "      <td>307538.0</td>\n",
              "      <td>1.983620e+06</td>\n",
              "      <td>549</td>\n",
              "      <td>0</td>\n",
              "      <td>2</td>\n",
              "      <td>3</td>\n",
              "      <td>0</td>\n",
              "      <td>222</td>\n",
              "      <td>3772</td>\n",
              "      <td>6</td>\n",
              "      <td>32</td>\n",
              "      <td>3</td>\n",
              "      <td>0</td>\n",
              "      <td>1</td>\n",
              "      <td>6</td>\n",
              "      <td>2</td>\n",
              "      <td>4</td>\n",
              "    </tr>\n",
              "    <tr>\n",
              "      <th>5315</th>\n",
              "      <td>39</td>\n",
              "      <td>325358.0</td>\n",
              "      <td>1.569884e+06</td>\n",
              "      <td>735</td>\n",
              "      <td>0</td>\n",
              "      <td>0</td>\n",
              "      <td>3</td>\n",
              "      <td>0</td>\n",
              "      <td>163</td>\n",
              "      <td>4222</td>\n",
              "      <td>6</td>\n",
              "      <td>628</td>\n",
              "      <td>0</td>\n",
              "      <td>2</td>\n",
              "      <td>9</td>\n",
              "      <td>21</td>\n",
              "      <td>0</td>\n",
              "      <td>5</td>\n",
              "    </tr>\n",
              "    <tr>\n",
              "      <th>5482</th>\n",
              "      <td>115</td>\n",
              "      <td>55393.0</td>\n",
              "      <td>3.655938e+05</td>\n",
              "      <td>528</td>\n",
              "      <td>1</td>\n",
              "      <td>2</td>\n",
              "      <td>1</td>\n",
              "      <td>0</td>\n",
              "      <td>307</td>\n",
              "      <td>5149</td>\n",
              "      <td>7</td>\n",
              "      <td>260</td>\n",
              "      <td>3</td>\n",
              "      <td>2</td>\n",
              "      <td>8</td>\n",
              "      <td>13</td>\n",
              "      <td>4</td>\n",
              "      <td>5</td>\n",
              "    </tr>\n",
              "    <tr>\n",
              "      <th>873</th>\n",
              "      <td>92</td>\n",
              "      <td>350313.0</td>\n",
              "      <td>2.189456e+06</td>\n",
              "      <td>101</td>\n",
              "      <td>0</td>\n",
              "      <td>1</td>\n",
              "      <td>3</td>\n",
              "      <td>0</td>\n",
              "      <td>290</td>\n",
              "      <td>3809</td>\n",
              "      <td>9</td>\n",
              "      <td>512</td>\n",
              "      <td>0</td>\n",
              "      <td>0</td>\n",
              "      <td>3</td>\n",
              "      <td>54</td>\n",
              "      <td>4</td>\n",
              "      <td>5</td>\n",
              "    </tr>\n",
              "  </tbody>\n",
              "</table>\n",
              "<p>4613 rows × 18 columns</p>\n",
              "</div>"
            ],
            "text/plain": [
              "      Industry  Deal_value  ...  Resource  Internal_rating\n",
              "6189        39    214742.0  ...         4                1\n",
              "3698        17    368227.0  ...         1                4\n",
              "5371        31    170335.0  ...         0                5\n",
              "3120       122    256570.0  ...         3                1\n",
              "2430         6     27280.0  ...         0                4\n",
              "...        ...         ...  ...       ...              ...\n",
              "3837        92    271416.0  ...         1                3\n",
              "5278        17    307538.0  ...         2                4\n",
              "5315        39    325358.0  ...         0                5\n",
              "5482       115     55393.0  ...         4                5\n",
              "873         92    350313.0  ...         4                5\n",
              "\n",
              "[4613 rows x 18 columns]"
            ]
          },
          "metadata": {
            "tags": []
          },
          "execution_count": 242
        }
      ]
    },
    {
      "cell_type": "code",
      "metadata": {
        "id": "nMWh0aMQtQfe"
      },
      "source": [
        "from numpy import loadtxt\n",
        "from xgboost import XGBRegressor\n",
        "from sklearn.metrics import accuracy_score"
      ],
      "execution_count": 243,
      "outputs": []
    },
    {
      "cell_type": "code",
      "metadata": {
        "id": "vwI8k-Qhta3q",
        "colab": {
          "base_uri": "https://localhost:8080/"
        },
        "outputId": "78028d1a-e2cb-4094-982a-1d15538d143f"
      },
      "source": [
        "model = XGBRegressor()  \n",
        "eval_set = [(x_valid, y_valid)]  \n",
        "model.fit(x_train, y_train, early_stopping_rounds=10, eval_metric=\"logloss\", eval_set=eval_set, verbose=True) "
      ],
      "execution_count": 244,
      "outputs": [
        {
          "output_type": "stream",
          "text": [
            "[16:30:54] WARNING: /workspace/src/objective/regression_obj.cu:152: reg:linear is now deprecated in favor of reg:squarederror.\n",
            "[0]\tvalidation_0-logloss:-2390.97\n",
            "Will train until validation_0-logloss hasn't improved in 10 rounds.\n",
            "[1]\tvalidation_0-logloss:-2390.97\n",
            "[2]\tvalidation_0-logloss:-2390.97\n",
            "[3]\tvalidation_0-logloss:-2390.97\n",
            "[4]\tvalidation_0-logloss:-2390.97\n",
            "[5]\tvalidation_0-logloss:-2390.97\n",
            "[6]\tvalidation_0-logloss:-2390.97\n",
            "[7]\tvalidation_0-logloss:-2390.97\n",
            "[8]\tvalidation_0-logloss:-2390.97\n",
            "[9]\tvalidation_0-logloss:-2390.97\n",
            "[10]\tvalidation_0-logloss:-2390.97\n",
            "Stopping. Best iteration:\n",
            "[0]\tvalidation_0-logloss:-2390.97\n",
            "\n"
          ],
          "name": "stdout"
        },
        {
          "output_type": "execute_result",
          "data": {
            "text/plain": [
              "XGBRegressor(base_score=0.5, booster='gbtree', colsample_bylevel=1,\n",
              "             colsample_bynode=1, colsample_bytree=1, gamma=0,\n",
              "             importance_type='gain', learning_rate=0.1, max_delta_step=0,\n",
              "             max_depth=3, min_child_weight=1, missing=None, n_estimators=100,\n",
              "             n_jobs=1, nthread=None, objective='reg:linear', random_state=0,\n",
              "             reg_alpha=0, reg_lambda=1, scale_pos_weight=1, seed=None,\n",
              "             silent=None, subsample=1, verbosity=1)"
            ]
          },
          "metadata": {
            "tags": []
          },
          "execution_count": 244
        }
      ]
    },
    {
      "cell_type": "code",
      "metadata": {
        "id": "hhi4xew7l6Dh"
      },
      "source": [
        "x_test = test_csv.iloc[:,:]"
      ],
      "execution_count": 245,
      "outputs": []
    },
    {
      "cell_type": "code",
      "metadata": {
        "id": "SKMQosCzlx0w"
      },
      "source": [
        "predictions = model.predict(x_test)"
      ],
      "execution_count": 246,
      "outputs": []
    },
    {
      "cell_type": "code",
      "metadata": {
        "id": "ra-J30hul9w-"
      },
      "source": [
        "ans1[\"Success_probability\"] = pd.DataFrame(predictions) "
      ],
      "execution_count": 247,
      "outputs": []
    },
    {
      "cell_type": "code",
      "metadata": {
        "id": "4HC-S5PsmKUT"
      },
      "source": [
        "ans1.to_csv(\"hackothon1.csv\",index = False) "
      ],
      "execution_count": 252,
      "outputs": []
    },
    {
      "cell_type": "code",
      "metadata": {
        "id": "Wlfr-COJ9rGk"
      },
      "source": [
        "n_estimators = [100, 200, 300, 400, 500] \n",
        "learning_rate = [0.0001, 0.001, 0.01, 0.1]"
      ],
      "execution_count": 249,
      "outputs": []
    },
    {
      "cell_type": "code",
      "metadata": {
        "id": "mynqJzUx9zos"
      },
      "source": [
        "from sklearn.model_selection import GridSearchCV\n",
        "from sklearn.model_selection import StratifiedKFold"
      ],
      "execution_count": 250,
      "outputs": []
    },
    {
      "cell_type": "code",
      "metadata": {
        "id": "1kEZOJt29sRq",
        "colab": {
          "base_uri": "https://localhost:8080/",
          "height": 340
        },
        "outputId": "caee0082-9845-4d14-ba3a-ca04b2ee257e"
      },
      "source": [
        "param_grid = dict(learning_rate=learning_rate, n_estimators=n_estimators)\n",
        "kfold = StratifiedKFold(n_splits=10, shuffle=True, random_state=7)\n",
        "grid_search = GridSearchCV(model, param_grid, scoring=\"neg_log_loss\", n_jobs=-1, cv=kfold) \n",
        "grid_result = grid_search.fit(x_train,y_train) "
      ],
      "execution_count": 251,
      "outputs": [
        {
          "output_type": "error",
          "ename": "ValueError",
          "evalue": "ignored",
          "traceback": [
            "\u001b[0;31m---------------------------------------------------------------------------\u001b[0m",
            "\u001b[0;31mValueError\u001b[0m                                Traceback (most recent call last)",
            "\u001b[0;32m<ipython-input-251-1d3176ee0321>\u001b[0m in \u001b[0;36m<module>\u001b[0;34m()\u001b[0m\n\u001b[1;32m      2\u001b[0m \u001b[0mkfold\u001b[0m \u001b[0;34m=\u001b[0m \u001b[0mStratifiedKFold\u001b[0m\u001b[0;34m(\u001b[0m\u001b[0mn_splits\u001b[0m\u001b[0;34m=\u001b[0m\u001b[0;36m10\u001b[0m\u001b[0;34m,\u001b[0m \u001b[0mshuffle\u001b[0m\u001b[0;34m=\u001b[0m\u001b[0;32mTrue\u001b[0m\u001b[0;34m,\u001b[0m \u001b[0mrandom_state\u001b[0m\u001b[0;34m=\u001b[0m\u001b[0;36m7\u001b[0m\u001b[0;34m)\u001b[0m\u001b[0;34m\u001b[0m\u001b[0;34m\u001b[0m\u001b[0m\n\u001b[1;32m      3\u001b[0m \u001b[0mgrid_search\u001b[0m \u001b[0;34m=\u001b[0m \u001b[0mGridSearchCV\u001b[0m\u001b[0;34m(\u001b[0m\u001b[0mmodel\u001b[0m\u001b[0;34m,\u001b[0m \u001b[0mparam_grid\u001b[0m\u001b[0;34m,\u001b[0m \u001b[0mscoring\u001b[0m\u001b[0;34m=\u001b[0m\u001b[0;34m\"neg_log_loss\"\u001b[0m\u001b[0;34m,\u001b[0m \u001b[0mn_jobs\u001b[0m\u001b[0;34m=\u001b[0m\u001b[0;34m-\u001b[0m\u001b[0;36m1\u001b[0m\u001b[0;34m,\u001b[0m \u001b[0mcv\u001b[0m\u001b[0;34m=\u001b[0m\u001b[0mkfold\u001b[0m\u001b[0;34m)\u001b[0m\u001b[0;34m\u001b[0m\u001b[0;34m\u001b[0m\u001b[0m\n\u001b[0;32m----> 4\u001b[0;31m \u001b[0mgrid_result\u001b[0m \u001b[0;34m=\u001b[0m \u001b[0mgrid_search\u001b[0m\u001b[0;34m.\u001b[0m\u001b[0mfit\u001b[0m\u001b[0;34m(\u001b[0m\u001b[0mx_train\u001b[0m\u001b[0;34m,\u001b[0m\u001b[0my_train\u001b[0m\u001b[0;34m)\u001b[0m\u001b[0;34m\u001b[0m\u001b[0;34m\u001b[0m\u001b[0m\n\u001b[0m",
            "\u001b[0;32m/usr/local/lib/python3.7/dist-packages/sklearn/model_selection/_search.py\u001b[0m in \u001b[0;36mfit\u001b[0;34m(self, X, y, groups, **fit_params)\u001b[0m\n\u001b[1;32m    708\u001b[0m                 \u001b[0;32mreturn\u001b[0m \u001b[0mresults\u001b[0m\u001b[0;34m\u001b[0m\u001b[0;34m\u001b[0m\u001b[0m\n\u001b[1;32m    709\u001b[0m \u001b[0;34m\u001b[0m\u001b[0m\n\u001b[0;32m--> 710\u001b[0;31m             \u001b[0mself\u001b[0m\u001b[0;34m.\u001b[0m\u001b[0m_run_search\u001b[0m\u001b[0;34m(\u001b[0m\u001b[0mevaluate_candidates\u001b[0m\u001b[0;34m)\u001b[0m\u001b[0;34m\u001b[0m\u001b[0;34m\u001b[0m\u001b[0m\n\u001b[0m\u001b[1;32m    711\u001b[0m \u001b[0;34m\u001b[0m\u001b[0m\n\u001b[1;32m    712\u001b[0m         \u001b[0;31m# For multi-metric evaluation, store the best_index_, best_params_ and\u001b[0m\u001b[0;34m\u001b[0m\u001b[0;34m\u001b[0m\u001b[0;34m\u001b[0m\u001b[0m\n",
            "\u001b[0;32m/usr/local/lib/python3.7/dist-packages/sklearn/model_selection/_search.py\u001b[0m in \u001b[0;36m_run_search\u001b[0;34m(self, evaluate_candidates)\u001b[0m\n\u001b[1;32m   1149\u001b[0m     \u001b[0;32mdef\u001b[0m \u001b[0m_run_search\u001b[0m\u001b[0;34m(\u001b[0m\u001b[0mself\u001b[0m\u001b[0;34m,\u001b[0m \u001b[0mevaluate_candidates\u001b[0m\u001b[0;34m)\u001b[0m\u001b[0;34m:\u001b[0m\u001b[0;34m\u001b[0m\u001b[0;34m\u001b[0m\u001b[0m\n\u001b[1;32m   1150\u001b[0m         \u001b[0;34m\"\"\"Search all candidates in param_grid\"\"\"\u001b[0m\u001b[0;34m\u001b[0m\u001b[0;34m\u001b[0m\u001b[0m\n\u001b[0;32m-> 1151\u001b[0;31m         \u001b[0mevaluate_candidates\u001b[0m\u001b[0;34m(\u001b[0m\u001b[0mParameterGrid\u001b[0m\u001b[0;34m(\u001b[0m\u001b[0mself\u001b[0m\u001b[0;34m.\u001b[0m\u001b[0mparam_grid\u001b[0m\u001b[0;34m)\u001b[0m\u001b[0;34m)\u001b[0m\u001b[0;34m\u001b[0m\u001b[0;34m\u001b[0m\u001b[0m\n\u001b[0m\u001b[1;32m   1152\u001b[0m \u001b[0;34m\u001b[0m\u001b[0m\n\u001b[1;32m   1153\u001b[0m \u001b[0;34m\u001b[0m\u001b[0m\n",
            "\u001b[0;32m/usr/local/lib/python3.7/dist-packages/sklearn/model_selection/_search.py\u001b[0m in \u001b[0;36mevaluate_candidates\u001b[0;34m(candidate_params)\u001b[0m\n\u001b[1;32m    687\u001b[0m                                \u001b[0;32mfor\u001b[0m \u001b[0mparameters\u001b[0m\u001b[0;34m,\u001b[0m \u001b[0;34m(\u001b[0m\u001b[0mtrain\u001b[0m\u001b[0;34m,\u001b[0m \u001b[0mtest\u001b[0m\u001b[0;34m)\u001b[0m\u001b[0;34m\u001b[0m\u001b[0;34m\u001b[0m\u001b[0m\n\u001b[1;32m    688\u001b[0m                                in product(candidate_params,\n\u001b[0;32m--> 689\u001b[0;31m                                           cv.split(X, y, groups)))\n\u001b[0m\u001b[1;32m    690\u001b[0m \u001b[0;34m\u001b[0m\u001b[0m\n\u001b[1;32m    691\u001b[0m                 \u001b[0;32mif\u001b[0m \u001b[0mlen\u001b[0m\u001b[0;34m(\u001b[0m\u001b[0mout\u001b[0m\u001b[0;34m)\u001b[0m \u001b[0;34m<\u001b[0m \u001b[0;36m1\u001b[0m\u001b[0;34m:\u001b[0m\u001b[0;34m\u001b[0m\u001b[0;34m\u001b[0m\u001b[0m\n",
            "\u001b[0;32m/usr/local/lib/python3.7/dist-packages/sklearn/model_selection/_split.py\u001b[0m in \u001b[0;36msplit\u001b[0;34m(self, X, y, groups)\u001b[0m\n\u001b[1;32m    333\u001b[0m                 .format(self.n_splits, n_samples))\n\u001b[1;32m    334\u001b[0m \u001b[0;34m\u001b[0m\u001b[0m\n\u001b[0;32m--> 335\u001b[0;31m         \u001b[0;32mfor\u001b[0m \u001b[0mtrain\u001b[0m\u001b[0;34m,\u001b[0m \u001b[0mtest\u001b[0m \u001b[0;32min\u001b[0m \u001b[0msuper\u001b[0m\u001b[0;34m(\u001b[0m\u001b[0;34m)\u001b[0m\u001b[0;34m.\u001b[0m\u001b[0msplit\u001b[0m\u001b[0;34m(\u001b[0m\u001b[0mX\u001b[0m\u001b[0;34m,\u001b[0m \u001b[0my\u001b[0m\u001b[0;34m,\u001b[0m \u001b[0mgroups\u001b[0m\u001b[0;34m)\u001b[0m\u001b[0;34m:\u001b[0m\u001b[0;34m\u001b[0m\u001b[0;34m\u001b[0m\u001b[0m\n\u001b[0m\u001b[1;32m    336\u001b[0m             \u001b[0;32myield\u001b[0m \u001b[0mtrain\u001b[0m\u001b[0;34m,\u001b[0m \u001b[0mtest\u001b[0m\u001b[0;34m\u001b[0m\u001b[0;34m\u001b[0m\u001b[0m\n\u001b[1;32m    337\u001b[0m \u001b[0;34m\u001b[0m\u001b[0m\n",
            "\u001b[0;32m/usr/local/lib/python3.7/dist-packages/sklearn/model_selection/_split.py\u001b[0m in \u001b[0;36msplit\u001b[0;34m(self, X, y, groups)\u001b[0m\n\u001b[1;32m     78\u001b[0m         \u001b[0mX\u001b[0m\u001b[0;34m,\u001b[0m \u001b[0my\u001b[0m\u001b[0;34m,\u001b[0m \u001b[0mgroups\u001b[0m \u001b[0;34m=\u001b[0m \u001b[0mindexable\u001b[0m\u001b[0;34m(\u001b[0m\u001b[0mX\u001b[0m\u001b[0;34m,\u001b[0m \u001b[0my\u001b[0m\u001b[0;34m,\u001b[0m \u001b[0mgroups\u001b[0m\u001b[0;34m)\u001b[0m\u001b[0;34m\u001b[0m\u001b[0;34m\u001b[0m\u001b[0m\n\u001b[1;32m     79\u001b[0m         \u001b[0mindices\u001b[0m \u001b[0;34m=\u001b[0m \u001b[0mnp\u001b[0m\u001b[0;34m.\u001b[0m\u001b[0marange\u001b[0m\u001b[0;34m(\u001b[0m\u001b[0m_num_samples\u001b[0m\u001b[0;34m(\u001b[0m\u001b[0mX\u001b[0m\u001b[0;34m)\u001b[0m\u001b[0;34m)\u001b[0m\u001b[0;34m\u001b[0m\u001b[0;34m\u001b[0m\u001b[0m\n\u001b[0;32m---> 80\u001b[0;31m         \u001b[0;32mfor\u001b[0m \u001b[0mtest_index\u001b[0m \u001b[0;32min\u001b[0m \u001b[0mself\u001b[0m\u001b[0;34m.\u001b[0m\u001b[0m_iter_test_masks\u001b[0m\u001b[0;34m(\u001b[0m\u001b[0mX\u001b[0m\u001b[0;34m,\u001b[0m \u001b[0my\u001b[0m\u001b[0;34m,\u001b[0m \u001b[0mgroups\u001b[0m\u001b[0;34m)\u001b[0m\u001b[0;34m:\u001b[0m\u001b[0;34m\u001b[0m\u001b[0;34m\u001b[0m\u001b[0m\n\u001b[0m\u001b[1;32m     81\u001b[0m             \u001b[0mtrain_index\u001b[0m \u001b[0;34m=\u001b[0m \u001b[0mindices\u001b[0m\u001b[0;34m[\u001b[0m\u001b[0mnp\u001b[0m\u001b[0;34m.\u001b[0m\u001b[0mlogical_not\u001b[0m\u001b[0;34m(\u001b[0m\u001b[0mtest_index\u001b[0m\u001b[0;34m)\u001b[0m\u001b[0;34m]\u001b[0m\u001b[0;34m\u001b[0m\u001b[0;34m\u001b[0m\u001b[0m\n\u001b[1;32m     82\u001b[0m             \u001b[0mtest_index\u001b[0m \u001b[0;34m=\u001b[0m \u001b[0mindices\u001b[0m\u001b[0;34m[\u001b[0m\u001b[0mtest_index\u001b[0m\u001b[0;34m]\u001b[0m\u001b[0;34m\u001b[0m\u001b[0;34m\u001b[0m\u001b[0m\n",
            "\u001b[0;32m/usr/local/lib/python3.7/dist-packages/sklearn/model_selection/_split.py\u001b[0m in \u001b[0;36m_iter_test_masks\u001b[0;34m(self, X, y, groups)\u001b[0m\n\u001b[1;32m    690\u001b[0m \u001b[0;34m\u001b[0m\u001b[0m\n\u001b[1;32m    691\u001b[0m     \u001b[0;32mdef\u001b[0m \u001b[0m_iter_test_masks\u001b[0m\u001b[0;34m(\u001b[0m\u001b[0mself\u001b[0m\u001b[0;34m,\u001b[0m \u001b[0mX\u001b[0m\u001b[0;34m,\u001b[0m \u001b[0my\u001b[0m\u001b[0;34m=\u001b[0m\u001b[0;32mNone\u001b[0m\u001b[0;34m,\u001b[0m \u001b[0mgroups\u001b[0m\u001b[0;34m=\u001b[0m\u001b[0;32mNone\u001b[0m\u001b[0;34m)\u001b[0m\u001b[0;34m:\u001b[0m\u001b[0;34m\u001b[0m\u001b[0;34m\u001b[0m\u001b[0m\n\u001b[0;32m--> 692\u001b[0;31m         \u001b[0mtest_folds\u001b[0m \u001b[0;34m=\u001b[0m \u001b[0mself\u001b[0m\u001b[0;34m.\u001b[0m\u001b[0m_make_test_folds\u001b[0m\u001b[0;34m(\u001b[0m\u001b[0mX\u001b[0m\u001b[0;34m,\u001b[0m \u001b[0my\u001b[0m\u001b[0;34m)\u001b[0m\u001b[0;34m\u001b[0m\u001b[0;34m\u001b[0m\u001b[0m\n\u001b[0m\u001b[1;32m    693\u001b[0m         \u001b[0;32mfor\u001b[0m \u001b[0mi\u001b[0m \u001b[0;32min\u001b[0m \u001b[0mrange\u001b[0m\u001b[0;34m(\u001b[0m\u001b[0mself\u001b[0m\u001b[0;34m.\u001b[0m\u001b[0mn_splits\u001b[0m\u001b[0;34m)\u001b[0m\u001b[0;34m:\u001b[0m\u001b[0;34m\u001b[0m\u001b[0;34m\u001b[0m\u001b[0m\n\u001b[1;32m    694\u001b[0m             \u001b[0;32myield\u001b[0m \u001b[0mtest_folds\u001b[0m \u001b[0;34m==\u001b[0m \u001b[0mi\u001b[0m\u001b[0;34m\u001b[0m\u001b[0;34m\u001b[0m\u001b[0m\n",
            "\u001b[0;32m/usr/local/lib/python3.7/dist-packages/sklearn/model_selection/_split.py\u001b[0m in \u001b[0;36m_make_test_folds\u001b[0;34m(self, X, y)\u001b[0m\n\u001b[1;32m    644\u001b[0m             raise ValueError(\n\u001b[1;32m    645\u001b[0m                 'Supported target types are: {}. Got {!r} instead.'.format(\n\u001b[0;32m--> 646\u001b[0;31m                     allowed_target_types, type_of_target_y))\n\u001b[0m\u001b[1;32m    647\u001b[0m \u001b[0;34m\u001b[0m\u001b[0m\n\u001b[1;32m    648\u001b[0m         \u001b[0my\u001b[0m \u001b[0;34m=\u001b[0m \u001b[0mcolumn_or_1d\u001b[0m\u001b[0;34m(\u001b[0m\u001b[0my\u001b[0m\u001b[0;34m)\u001b[0m\u001b[0;34m\u001b[0m\u001b[0;34m\u001b[0m\u001b[0m\n",
            "\u001b[0;31mValueError\u001b[0m: Supported target types are: ('binary', 'multiclass'). Got 'continuous' instead."
          ]
        }
      ]
    },
    {
      "cell_type": "code",
      "metadata": {
        "id": "nkGszHw9tapy"
      },
      "source": [
        "# make predictions for test data\n",
        "y_pred = model.predict(x_test)"
      ],
      "execution_count": null,
      "outputs": []
    },
    {
      "cell_type": "code",
      "metadata": {
        "id": "SKtuz1wWr-Vo"
      },
      "source": [
        "print(model.score(x_test, y_test))  "
      ],
      "execution_count": null,
      "outputs": []
    },
    {
      "cell_type": "code",
      "metadata": {
        "id": "LSQ0LNZ2tanT"
      },
      "source": [
        "from sklearn.metrics import mean_squared_error\n",
        "mean_squared_error(y_test, y_pred) "
      ],
      "execution_count": null,
      "outputs": []
    },
    {
      "cell_type": "code",
      "metadata": {
        "id": "OsKsfGTZvj75"
      },
      "source": [
        "model.fit(x_train, y_train, eval_metric=\"error\", eval_set=eval_set, verbose=True)"
      ],
      "execution_count": null,
      "outputs": []
    },
    {
      "cell_type": "code",
      "metadata": {
        "id": "MuHB6P6Evv-L"
      },
      "source": [
        "y_pred1 = model.predict(x_test)"
      ],
      "execution_count": null,
      "outputs": []
    },
    {
      "cell_type": "code",
      "metadata": {
        "id": "cwLOkBOUvjpx"
      },
      "source": [
        "mean_squared_error(y_test, y_pred1)  "
      ],
      "execution_count": null,
      "outputs": []
    },
    {
      "cell_type": "code",
      "metadata": {
        "id": "mzPLUvXxwLKz"
      },
      "source": [
        "from matplotlib import pyplot"
      ],
      "execution_count": null,
      "outputs": []
    },
    {
      "cell_type": "code",
      "metadata": {
        "id": "4YhlWV_gwJmz"
      },
      "source": [
        "pyplot.bar(range(len(model.feature_importances_)), model.feature_importances_)\n",
        "pyplot.show()"
      ],
      "execution_count": null,
      "outputs": []
    },
    {
      "cell_type": "code",
      "metadata": {
        "id": "3fAdT6aM44Xd"
      },
      "source": [
        "model = XGBRegressor() \n",
        "eval_set = [(x_train, y_train), (x_test, y_test)]\n",
        "model.fit(x_train, y_train, eval_metric=[\"error\", \"logloss\"], eval_set=eval_set, verbose=True) "
      ],
      "execution_count": null,
      "outputs": []
    },
    {
      "cell_type": "code",
      "metadata": {
        "id": "C4Vm738i4sAO"
      },
      "source": [
        "results = model.evals_result()\n",
        "epochs = len(results['validation_0']['error']) \n",
        "x_axis = range(0, epochs)"
      ],
      "execution_count": null,
      "outputs": []
    },
    {
      "cell_type": "code",
      "metadata": {
        "id": "tOFx99uuwRrp"
      },
      "source": [
        "# plot log loss\n",
        "from matplotlib import pyplot\n",
        "fig, ax = pyplot.subplots()\n",
        "\n",
        "ax.plot(x_axis, results['validation_0']['logloss'], label='Train')\n",
        "ax.plot(x_axis, results['validation_1']['logloss'], label='Test')\n",
        "ax.legend()\n",
        "pyplot.ylabel('Log Loss')\n",
        "pyplot.title('XGBoost Log Loss')\n",
        "pyplot.show()"
      ],
      "execution_count": null,
      "outputs": []
    },
    {
      "cell_type": "code",
      "metadata": {
        "id": "oO_6rEal57JA"
      },
      "source": [
        "# plot classification error\n",
        "from matplotlib import pyplot\n",
        "fig, ax = pyplot.subplots()\n",
        "ax.plot(x_axis, results['validation_0']['error'], label='Train')\n",
        "ax.plot(x_axis, results['validation_1']['error'], label='Test')\n",
        "ax.legend()\n",
        "pyplot.ylabel('Classification Error')\n",
        "pyplot.title('XGBoost Classification Error')\n",
        "pyplot.show()"
      ],
      "execution_count": null,
      "outputs": []
    },
    {
      "cell_type": "code",
      "metadata": {
        "id": "NsZKEj6H566A"
      },
      "source": [
        ""
      ],
      "execution_count": null,
      "outputs": []
    },
    {
      "cell_type": "code",
      "metadata": {
        "id": "2p8CzD_wwRjX"
      },
      "source": [
        ""
      ],
      "execution_count": null,
      "outputs": []
    },
    {
      "cell_type": "code",
      "metadata": {
        "id": "bsMRREOG1rGN"
      },
      "source": [
        "from sklearn.cluster import KMeans\n",
        "x= x_train\n",
        "wcss = []\n",
        "for i in range(1, 15):\n",
        "    kmeans = KMeans(n_clusters=i, init='k-means++', max_iter=300, n_init=10, random_state=0)\n",
        "    kmeans.fit(x)\n",
        "    wcss.append(kmeans.inertia_)\n",
        "plt.plot(range(1, 15), wcss)\n",
        "plt.plot(np.arange(1, 15), wcss,'o')\n",
        " \n",
        "plt.title('Elbow Method') \n",
        "plt.xlabel('Number of clusters') \n",
        "plt.ylabel('WCSS')\n",
        "plt.show() "
      ],
      "execution_count": null,
      "outputs": []
    }
  ]
}